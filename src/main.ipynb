{
 "cells": [
  {
   "cell_type": "code",
   "execution_count": null,
   "source": [
    "PATH = \"/Users/nguyenvietthai/Downloads/training2017\"\n",
    "BATCH_SIZE = 2048\n",
    "EPOCH = 50\n",
    "FS = 300\n",
    "LENGTH = 9000\n",
    "LR = 1e-3\n",
    "RESAMP = False"
   ],
   "outputs": [],
   "metadata": {}
  },
  {
   "cell_type": "code",
   "execution_count": 1,
   "source": [
    "try:\n",
    "    segments = np.load('/Users/nguyenvietthai/Downloads/training2017/segment.npy')\n",
    "except:\n",
    "    signals, labels = get_ecg(PATH, length=LENGTH)\n",
    "    segments = np.zeros((245990, 1001))\n",
    "    k = 0\n",
    "    \n",
    "    for i, record in enumerate(signals):\n",
    "        print(\"running\",i)\n",
    "        rp = qrs_detection(record, sample_rate=FS)\n",
    "        seg = get_segments(record, rp, labels[i])\n",
    "        if seg is not None:\n",
    "            segments[k:k+seg.shape[0], :] = seg\n",
    "            k += seg.shape[0]\n",
    "    del signals, labels\n",
    "    \n",
    "    np.save('/Users/nguyenvietthai/Downloads/training2017/segment.npy', segments)"
   ],
   "outputs": [
    {
     "output_type": "error",
     "ename": "NameError",
     "evalue": "name 'get_ecg' is not defined",
     "traceback": [
      "\u001b[0;31m---------------------------------------------------------------------------\u001b[0m",
      "\u001b[0;31mNameError\u001b[0m                                 Traceback (most recent call last)",
      "File \u001b[1;32m/Users/nguyenvietthai/Downloads/ECG-Signal-Analysis-master/src/main.py:3\u001b[0m\n\u001b[1;32m      2\u001b[0m \u001b[39mtry\u001b[39;00m:\n\u001b[0;32m----> 3\u001b[0m     segments \u001b[39m=\u001b[39m np\u001b[39m.\u001b[39mload(\u001b[39m'\u001b[39m\u001b[39m/Users/nguyenvietthai/Downloads/training2017/segment.npy\u001b[39m\u001b[39m'\u001b[39m)\n\u001b[1;32m      4\u001b[0m \u001b[39mexcept\u001b[39;00m:\n",
      "\u001b[0;31mNameError\u001b[0m: name 'np' is not defined",
      "\nDuring handling of the above exception, another exception occurred:\n",
      "\u001b[0;31mNameError\u001b[0m                                 Traceback (most recent call last)",
      "File \u001b[1;32m/Users/nguyenvietthai/Downloads/ECG-Signal-Analysis-master/src/main.py:5\u001b[0m\n\u001b[1;32m      3\u001b[0m     segments \u001b[39m=\u001b[39m np\u001b[39m.\u001b[39mload(\u001b[39m'\u001b[39m\u001b[39m/Users/nguyenvietthai/Downloads/training2017/segment.npy\u001b[39m\u001b[39m'\u001b[39m)\n\u001b[1;32m      4\u001b[0m \u001b[39mexcept\u001b[39;00m:\n\u001b[0;32m----> 5\u001b[0m     signals, labels \u001b[39m=\u001b[39m get_ecg(PATH, length\u001b[39m=\u001b[39mLENGTH)\n\u001b[1;32m      6\u001b[0m     segments \u001b[39m=\u001b[39m np\u001b[39m.\u001b[39mzeros((\u001b[39m245990\u001b[39m, \u001b[39m1001\u001b[39m))\n\u001b[1;32m      7\u001b[0m     k \u001b[39m=\u001b[39m \u001b[39m0\u001b[39m\n",
      "\u001b[0;31mNameError\u001b[0m: name 'get_ecg' is not defined"
     ]
    }
   ],
   "metadata": {}
  },
  {
   "cell_type": "code",
   "execution_count": 2,
   "source": [
    "import torch\n",
    "import numpy as np\n",
    "import os\n",
    "\n",
    "from utils import get_ecg, qrs_detection, get_segments, plot\n",
    "from data import build_dataloader\n",
    "from train import learn, cnn_feed_lstm"
   ],
   "outputs": [],
   "metadata": {}
  },
  {
   "cell_type": "code",
   "execution_count": 3,
   "source": [
    "PATH = \"/Users/nguyenvietthai/Downloads/training2017\"\n",
    "BATCH_SIZE = 2048\n",
    "EPOCH = 50\n",
    "FS = 300\n",
    "LENGTH = 9000\n",
    "LR = 1e-3\n",
    "RESAMP = False"
   ],
   "outputs": [],
   "metadata": {}
  },
  {
   "cell_type": "code",
   "execution_count": 4,
   "source": [
    "try:\n",
    "    segments = np.load('/Users/nguyenvietthai/Downloads/training2017/segment.npy')\n",
    "except:\n",
    "    signals, labels = get_ecg(PATH, length=LENGTH)\n",
    "    segments = np.zeros((245990, 1001))\n",
    "    k = 0\n",
    "    \n",
    "    for i, record in enumerate(signals):\n",
    "        print(\"running\",i)\n",
    "        rp = qrs_detection(record, sample_rate=FS)\n",
    "        seg = get_segments(record, rp, labels[i])\n",
    "        if seg is not None:\n",
    "            segments[k:k+seg.shape[0], :] = seg\n",
    "            k += seg.shape[0]\n",
    "    del signals, labels\n",
    "    \n",
    "    np.save('/Users/nguyenvietthai/Downloads/training2017/segment.npy', segments)"
   ],
   "outputs": [
    {
     "output_type": "error",
     "ename": "KeyboardInterrupt",
     "evalue": "",
     "traceback": [
      "\u001b[0;31m---------------------------------------------------------------------------\u001b[0m",
      "\u001b[0;31mFileNotFoundError\u001b[0m                         Traceback (most recent call last)",
      "Cell \u001b[0;32mIn[4], line 3\u001b[0m\n\u001b[1;32m      2\u001b[0m \u001b[39mtry\u001b[39;00m:\n\u001b[0;32m----> 3\u001b[0m     segments \u001b[39m=\u001b[39m np\u001b[39m.\u001b[39mload(\u001b[39m'\u001b[39m\u001b[39m/Users/nguyenvietthai/Downloads/training2017/segment.npy\u001b[39m\u001b[39m'\u001b[39m)\n\u001b[1;32m      4\u001b[0m \u001b[39mexcept\u001b[39;00m:\n",
      "File \u001b[0;32m~/anaconda3/lib/python3.11/site-packages/numpy/lib/npyio.py:405\u001b[0m, in \u001b[0;36mload\u001b[0;34m(file, mmap_mode, allow_pickle, fix_imports, encoding, max_header_size)\u001b[0m\n\u001b[1;32m    404\u001b[0m \u001b[39melse\u001b[39;00m:\n\u001b[0;32m--> 405\u001b[0m     fid \u001b[39m=\u001b[39m stack\u001b[39m.\u001b[39menter_context(\u001b[39mopen\u001b[39m(os_fspath(file), \u001b[39m\"\u001b[39m\u001b[39mrb\u001b[39m\u001b[39m\"\u001b[39m))\n\u001b[1;32m    406\u001b[0m     own_fid \u001b[39m=\u001b[39m \u001b[39mTrue\u001b[39;00m\n",
      "\u001b[0;31mFileNotFoundError\u001b[0m: [Errno 2] No such file or directory: '/Users/nguyenvietthai/Downloads/training2017/segment.npy'",
      "\nDuring handling of the above exception, another exception occurred:\n",
      "\u001b[0;31mKeyboardInterrupt\u001b[0m                         Traceback (most recent call last)",
      "Cell \u001b[0;32mIn[4], line 5\u001b[0m\n\u001b[1;32m      3\u001b[0m     segments \u001b[39m=\u001b[39m np\u001b[39m.\u001b[39mload(\u001b[39m'\u001b[39m\u001b[39m/Users/nguyenvietthai/Downloads/training2017/segment.npy\u001b[39m\u001b[39m'\u001b[39m)\n\u001b[1;32m      4\u001b[0m \u001b[39mexcept\u001b[39;00m:\n\u001b[0;32m----> 5\u001b[0m     signals, labels \u001b[39m=\u001b[39m get_ecg(PATH, length\u001b[39m=\u001b[39mLENGTH)\n\u001b[1;32m      6\u001b[0m     segments \u001b[39m=\u001b[39m np\u001b[39m.\u001b[39mzeros((\u001b[39m245990\u001b[39m, \u001b[39m1001\u001b[39m))\n\u001b[1;32m      7\u001b[0m     k \u001b[39m=\u001b[39m \u001b[39m0\u001b[39m\n",
      "File \u001b[0;32m~/Downloads/ECG-Signal-Analysis-master/src/utils.py:38\u001b[0m, in \u001b[0;36mget_ecg\u001b[0;34m(path, length)\u001b[0m\n\u001b[1;32m     36\u001b[0m i \u001b[39m=\u001b[39m \u001b[39m0\u001b[39m\n\u001b[1;32m     37\u001b[0m \u001b[39mwhile\u001b[39;00m length \u001b[39m>\u001b[39m\u001b[39m=\u001b[39m length:\n\u001b[0;32m---> 38\u001b[0m     Signals\u001b[39m.\u001b[39mappend(data[\u001b[39m0\u001b[39m, i:i\u001b[39m+\u001b[39mlength])\n\u001b[1;32m     39\u001b[0m     Labels\u001b[39m.\u001b[39mappend(l)\n\u001b[1;32m     40\u001b[0m     i \u001b[39m+\u001b[39m\u001b[39m=\u001b[39m length\n",
      "\u001b[0;31mKeyboardInterrupt\u001b[0m: "
     ]
    }
   ],
   "metadata": {}
  },
  {
   "cell_type": "code",
   "execution_count": 5,
   "source": [
    "labels = pd.read_csv(path + '/' + 'REFERENCE.csv', index_col=0)"
   ],
   "outputs": [
    {
     "output_type": "error",
     "ename": "NameError",
     "evalue": "name 'pd' is not defined",
     "traceback": [
      "\u001b[0;31m---------------------------------------------------------------------------\u001b[0m",
      "\u001b[0;31mNameError\u001b[0m                                 Traceback (most recent call last)",
      "Cell \u001b[0;32mIn[5], line 1\u001b[0m\n\u001b[0;32m----> 1\u001b[0m labels \u001b[39m=\u001b[39m pd\u001b[39m.\u001b[39mread_csv(path \u001b[39m+\u001b[39m \u001b[39m'\u001b[39m\u001b[39m/\u001b[39m\u001b[39m'\u001b[39m \u001b[39m+\u001b[39m \u001b[39m'\u001b[39m\u001b[39mREFERENCE.csv\u001b[39m\u001b[39m'\u001b[39m, index_col\u001b[39m=\u001b[39m\u001b[39m0\u001b[39m)\n",
      "\u001b[0;31mNameError\u001b[0m: name 'pd' is not defined"
     ]
    }
   ],
   "metadata": {}
  },
  {
   "cell_type": "code",
   "execution_count": 6,
   "source": [
    "import pandas as pd"
   ],
   "outputs": [],
   "metadata": {}
  },
  {
   "cell_type": "code",
   "execution_count": 7,
   "source": [
    "labels = pd.read_csv(path + '/' + 'REFERENCE.csv', index_col=0)"
   ],
   "outputs": [
    {
     "output_type": "error",
     "ename": "NameError",
     "evalue": "name 'path' is not defined",
     "traceback": [
      "\u001b[0;31m---------------------------------------------------------------------------\u001b[0m",
      "\u001b[0;31mNameError\u001b[0m                                 Traceback (most recent call last)",
      "Cell \u001b[0;32mIn[7], line 1\u001b[0m\n\u001b[0;32m----> 1\u001b[0m labels \u001b[39m=\u001b[39m pd\u001b[39m.\u001b[39mread_csv(path \u001b[39m+\u001b[39m \u001b[39m'\u001b[39m\u001b[39m/\u001b[39m\u001b[39m'\u001b[39m \u001b[39m+\u001b[39m \u001b[39m'\u001b[39m\u001b[39mREFERENCE.csv\u001b[39m\u001b[39m'\u001b[39m, index_col\u001b[39m=\u001b[39m\u001b[39m0\u001b[39m)\n",
      "\u001b[0;31mNameError\u001b[0m: name 'path' is not defined"
     ]
    }
   ],
   "metadata": {}
  },
  {
   "cell_type": "code",
   "execution_count": 8,
   "source": [
    "path = \"/Users/nguyenvietthai/Downloads/training2017\""
   ],
   "outputs": [],
   "metadata": {}
  },
  {
   "cell_type": "code",
   "execution_count": 9,
   "source": [
    "labels = pd.read_csv(path + '/' + 'REFERENCE.csv', index_col=0)"
   ],
   "outputs": [],
   "metadata": {}
  },
  {
   "cell_type": "code",
   "execution_count": 10,
   "source": [
    "labels.head()"
   ],
   "outputs": [
    {
     "output_type": "execute_result",
     "data": {
      "text/html": [
       "<div>\n",
       "<style scoped>\n",
       "    .dataframe tbody tr th:only-of-type {\n",
       "        vertical-align: middle;\n",
       "    }\n",
       "\n",
       "    .dataframe tbody tr th {\n",
       "        vertical-align: top;\n",
       "    }\n",
       "\n",
       "    .dataframe thead th {\n",
       "        text-align: right;\n",
       "    }\n",
       "</style>\n",
       "<table border=\"1\" class=\"dataframe\">\n",
       "  <thead>\n",
       "    <tr style=\"text-align: right;\">\n",
       "      <th></th>\n",
       "      <th>label</th>\n",
       "    </tr>\n",
       "    <tr>\n",
       "      <th>variable</th>\n",
       "      <th></th>\n",
       "    </tr>\n",
       "  </thead>\n",
       "  <tbody>\n",
       "    <tr>\n",
       "      <th>A00001</th>\n",
       "      <td>N</td>\n",
       "    </tr>\n",
       "    <tr>\n",
       "      <th>A00002</th>\n",
       "      <td>N</td>\n",
       "    </tr>\n",
       "    <tr>\n",
       "      <th>A00003</th>\n",
       "      <td>N</td>\n",
       "    </tr>\n",
       "    <tr>\n",
       "      <th>A00004</th>\n",
       "      <td>A</td>\n",
       "    </tr>\n",
       "    <tr>\n",
       "      <th>A00005</th>\n",
       "      <td>A</td>\n",
       "    </tr>\n",
       "  </tbody>\n",
       "</table>\n",
       "</div>"
      ],
      "text/plain": [
       "         label\n",
       "variable      \n",
       "A00001       N\n",
       "A00002       N\n",
       "A00003       N\n",
       "A00004       A\n",
       "A00005       A"
      ]
     },
     "metadata": {},
     "execution_count": 10
    }
   ],
   "metadata": {}
  },
  {
   "cell_type": "code",
   "execution_count": 11,
   "source": [
    "data = scipy.io.loadmat(\"A00001.mat\")['val']"
   ],
   "outputs": [
    {
     "output_type": "error",
     "ename": "NameError",
     "evalue": "name 'scipy' is not defined",
     "traceback": [
      "\u001b[0;31m---------------------------------------------------------------------------\u001b[0m",
      "\u001b[0;31mNameError\u001b[0m                                 Traceback (most recent call last)",
      "Cell \u001b[0;32mIn[11], line 1\u001b[0m\n\u001b[0;32m----> 1\u001b[0m data \u001b[39m=\u001b[39m scipy\u001b[39m.\u001b[39mio\u001b[39m.\u001b[39mloadmat(\u001b[39m\"\u001b[39m\u001b[39mA00001.mat\u001b[39m\u001b[39m\"\u001b[39m)[\u001b[39m'\u001b[39m\u001b[39mval\u001b[39m\u001b[39m'\u001b[39m]\n",
      "\u001b[0;31mNameError\u001b[0m: name 'scipy' is not defined"
     ]
    }
   ],
   "metadata": {}
  },
  {
   "cell_type": "code",
   "execution_count": 12,
   "source": [
    "import scipy.io"
   ],
   "outputs": [],
   "metadata": {}
  },
  {
   "cell_type": "code",
   "execution_count": 13,
   "source": [
    "data = scipy.io.loadmat(\"A00001.mat\")['val']"
   ],
   "outputs": [
    {
     "output_type": "error",
     "ename": "FileNotFoundError",
     "evalue": "[Errno 2] No such file or directory: 'A00001.mat'",
     "traceback": [
      "\u001b[0;31m---------------------------------------------------------------------------\u001b[0m",
      "\u001b[0;31mFileNotFoundError\u001b[0m                         Traceback (most recent call last)",
      "File \u001b[0;32m~/anaconda3/lib/python3.11/site-packages/scipy/io/matlab/_mio.py:39\u001b[0m, in \u001b[0;36m_open_file\u001b[0;34m(file_like, appendmat, mode)\u001b[0m\n\u001b[1;32m     38\u001b[0m \u001b[39mtry\u001b[39;00m:\n\u001b[0;32m---> 39\u001b[0m     \u001b[39mreturn\u001b[39;00m \u001b[39mopen\u001b[39m(file_like, mode), \u001b[39mTrue\u001b[39;00m\n\u001b[1;32m     40\u001b[0m \u001b[39mexcept\u001b[39;00m \u001b[39mOSError\u001b[39;00m \u001b[39mas\u001b[39;00m e:\n\u001b[1;32m     41\u001b[0m     \u001b[39m# Probably \"not found\"\u001b[39;00m\n",
      "\u001b[0;31mFileNotFoundError\u001b[0m: [Errno 2] No such file or directory: 'A00001.mat'",
      "\nDuring handling of the above exception, another exception occurred:\n",
      "\u001b[0;31mFileNotFoundError\u001b[0m                         Traceback (most recent call last)",
      "Cell \u001b[0;32mIn[13], line 1\u001b[0m\n\u001b[0;32m----> 1\u001b[0m data \u001b[39m=\u001b[39m scipy\u001b[39m.\u001b[39mio\u001b[39m.\u001b[39mloadmat(\u001b[39m\"\u001b[39m\u001b[39mA00001.mat\u001b[39m\u001b[39m\"\u001b[39m)[\u001b[39m'\u001b[39m\u001b[39mval\u001b[39m\u001b[39m'\u001b[39m]\n",
      "File \u001b[0;32m~/anaconda3/lib/python3.11/site-packages/scipy/io/matlab/_mio.py:225\u001b[0m, in \u001b[0;36mloadmat\u001b[0;34m(file_name, mdict, appendmat, **kwargs)\u001b[0m\n\u001b[1;32m     88\u001b[0m \u001b[39m\u001b[39m\u001b[39m\"\"\"\u001b[39;00m\n\u001b[1;32m     89\u001b[0m \u001b[39mLoad MATLAB file.\u001b[39;00m\n\u001b[1;32m     90\u001b[0m \n\u001b[0;32m   (...)\u001b[0m\n\u001b[1;32m    222\u001b[0m \u001b[39m    3.14159265+3.14159265j])\u001b[39;00m\n\u001b[1;32m    223\u001b[0m \u001b[39m\"\"\"\u001b[39;00m\n\u001b[1;32m    224\u001b[0m variable_names \u001b[39m=\u001b[39m kwargs\u001b[39m.\u001b[39mpop(\u001b[39m'\u001b[39m\u001b[39mvariable_names\u001b[39m\u001b[39m'\u001b[39m, \u001b[39mNone\u001b[39;00m)\n\u001b[0;32m--> 225\u001b[0m \u001b[39mwith\u001b[39;00m _open_file_context(file_name, appendmat) \u001b[39mas\u001b[39;00m f:\n\u001b[1;32m    226\u001b[0m     MR, _ \u001b[39m=\u001b[39m mat_reader_factory(f, \u001b[39m*\u001b[39m\u001b[39m*\u001b[39mkwargs)\n\u001b[1;32m    227\u001b[0m     matfile_dict \u001b[39m=\u001b[39m MR\u001b[39m.\u001b[39mget_variables(variable_names)\n",
      "File \u001b[0;32m~/anaconda3/lib/python3.11/contextlib.py:137\u001b[0m, in \u001b[0;36m_GeneratorContextManager.__enter__\u001b[0;34m(self)\u001b[0m\n\u001b[1;32m    135\u001b[0m \u001b[39mdel\u001b[39;00m \u001b[39mself\u001b[39m\u001b[39m.\u001b[39margs, \u001b[39mself\u001b[39m\u001b[39m.\u001b[39mkwds, \u001b[39mself\u001b[39m\u001b[39m.\u001b[39mfunc\n\u001b[1;32m    136\u001b[0m \u001b[39mtry\u001b[39;00m:\n\u001b[0;32m--> 137\u001b[0m     \u001b[39mreturn\u001b[39;00m \u001b[39mnext\u001b[39m(\u001b[39mself\u001b[39m\u001b[39m.\u001b[39mgen)\n\u001b[1;32m    138\u001b[0m \u001b[39mexcept\u001b[39;00m \u001b[39mStopIteration\u001b[39;00m:\n\u001b[1;32m    139\u001b[0m     \u001b[39mraise\u001b[39;00m \u001b[39mRuntimeError\u001b[39;00m(\u001b[39m\"\u001b[39m\u001b[39mgenerator didn\u001b[39m\u001b[39m'\u001b[39m\u001b[39mt yield\u001b[39m\u001b[39m\"\u001b[39m) \u001b[39mfrom\u001b[39;00m \u001b[39mNone\u001b[39;00m\n",
      "File \u001b[0;32m~/anaconda3/lib/python3.11/site-packages/scipy/io/matlab/_mio.py:17\u001b[0m, in \u001b[0;36m_open_file_context\u001b[0;34m(file_like, appendmat, mode)\u001b[0m\n\u001b[1;32m     15\u001b[0m \u001b[39m@contextmanager\u001b[39m\n\u001b[1;32m     16\u001b[0m \u001b[39mdef\u001b[39;00m \u001b[39m_open_file_context\u001b[39m(file_like, appendmat, mode\u001b[39m=\u001b[39m\u001b[39m'\u001b[39m\u001b[39mrb\u001b[39m\u001b[39m'\u001b[39m):\n\u001b[0;32m---> 17\u001b[0m     f, opened \u001b[39m=\u001b[39m _open_file(file_like, appendmat, mode)\n\u001b[1;32m     18\u001b[0m     \u001b[39mtry\u001b[39;00m:\n\u001b[1;32m     19\u001b[0m         \u001b[39myield\u001b[39;00m f\n",
      "File \u001b[0;32m~/anaconda3/lib/python3.11/site-packages/scipy/io/matlab/_mio.py:45\u001b[0m, in \u001b[0;36m_open_file\u001b[0;34m(file_like, appendmat, mode)\u001b[0m\n\u001b[1;32m     43\u001b[0m     \u001b[39mif\u001b[39;00m appendmat \u001b[39mand\u001b[39;00m \u001b[39mnot\u001b[39;00m file_like\u001b[39m.\u001b[39mendswith(\u001b[39m'\u001b[39m\u001b[39m.mat\u001b[39m\u001b[39m'\u001b[39m):\n\u001b[1;32m     44\u001b[0m         file_like \u001b[39m+\u001b[39m\u001b[39m=\u001b[39m \u001b[39m'\u001b[39m\u001b[39m.mat\u001b[39m\u001b[39m'\u001b[39m\n\u001b[0;32m---> 45\u001b[0m     \u001b[39mreturn\u001b[39;00m \u001b[39mopen\u001b[39m(file_like, mode), \u001b[39mTrue\u001b[39;00m\n\u001b[1;32m     46\u001b[0m \u001b[39melse\u001b[39;00m:\n\u001b[1;32m     47\u001b[0m     \u001b[39mraise\u001b[39;00m \u001b[39mOSError\u001b[39;00m(\n\u001b[1;32m     48\u001b[0m         \u001b[39m'\u001b[39m\u001b[39mReader needs file name or open file-like object\u001b[39m\u001b[39m'\u001b[39m\n\u001b[1;32m     49\u001b[0m     ) \u001b[39mfrom\u001b[39;00m \u001b[39me\u001b[39;00m\n",
      "\u001b[0;31mFileNotFoundError\u001b[0m: [Errno 2] No such file or directory: 'A00001.mat'"
     ]
    }
   ],
   "metadata": {}
  },
  {
   "cell_type": "code",
   "execution_count": 14,
   "source": [
    "data = scipy.io.loadmat(path+\"/\"+\"A00001.mat\")['val']"
   ],
   "outputs": [],
   "metadata": {}
  },
  {
   "cell_type": "code",
   "execution_count": 15,
   "source": [
    "file=path+\"/\"+\"A00001.mat\""
   ],
   "outputs": [],
   "metadata": {}
  },
  {
   "cell_type": "code",
   "execution_count": 16,
   "source": [
    "file.split('.')[0]"
   ],
   "outputs": [
    {
     "output_type": "execute_result",
     "data": {
      "text/plain": [
       "'/Users/nguyenvietthai/Downloads/training2017/A00001'"
      ]
     },
     "metadata": {},
     "execution_count": 16
    }
   ],
   "metadata": {}
  },
  {
   "cell_type": "code",
   "execution_count": 17,
   "source": [
    "labels.loc[file.split('.')[0], 'label']"
   ],
   "outputs": [
    {
     "output_type": "error",
     "ename": "KeyError",
     "evalue": "'/Users/nguyenvietthai/Downloads/training2017/A00001'",
     "traceback": [
      "\u001b[0;31m---------------------------------------------------------------------------\u001b[0m",
      "\u001b[0;31mKeyError\u001b[0m                                  Traceback (most recent call last)",
      "File \u001b[0;32m~/anaconda3/lib/python3.11/site-packages/pandas/core/indexes/base.py:3653\u001b[0m, in \u001b[0;36mIndex.get_loc\u001b[0;34m(self, key)\u001b[0m\n\u001b[1;32m   3652\u001b[0m \u001b[39mtry\u001b[39;00m:\n\u001b[0;32m-> 3653\u001b[0m     \u001b[39mreturn\u001b[39;00m \u001b[39mself\u001b[39m\u001b[39m.\u001b[39m_engine\u001b[39m.\u001b[39mget_loc(casted_key)\n\u001b[1;32m   3654\u001b[0m \u001b[39mexcept\u001b[39;00m \u001b[39mKeyError\u001b[39;00m \u001b[39mas\u001b[39;00m err:\n",
      "File \u001b[0;32m~/anaconda3/lib/python3.11/site-packages/pandas/_libs/index.pyx:147\u001b[0m, in \u001b[0;36mpandas._libs.index.IndexEngine.get_loc\u001b[0;34m()\u001b[0m\n",
      "File \u001b[0;32m~/anaconda3/lib/python3.11/site-packages/pandas/_libs/index.pyx:176\u001b[0m, in \u001b[0;36mpandas._libs.index.IndexEngine.get_loc\u001b[0;34m()\u001b[0m\n",
      "File \u001b[0;32mpandas/_libs/hashtable_class_helper.pxi:7080\u001b[0m, in \u001b[0;36mpandas._libs.hashtable.PyObjectHashTable.get_item\u001b[0;34m()\u001b[0m\n",
      "File \u001b[0;32mpandas/_libs/hashtable_class_helper.pxi:7088\u001b[0m, in \u001b[0;36mpandas._libs.hashtable.PyObjectHashTable.get_item\u001b[0;34m()\u001b[0m\n",
      "\u001b[0;31mKeyError\u001b[0m: '/Users/nguyenvietthai/Downloads/training2017/A00001'",
      "\nThe above exception was the direct cause of the following exception:\n",
      "\u001b[0;31mKeyError\u001b[0m                                  Traceback (most recent call last)",
      "Cell \u001b[0;32mIn[17], line 1\u001b[0m\n\u001b[0;32m----> 1\u001b[0m labels\u001b[39m.\u001b[39mloc[file\u001b[39m.\u001b[39msplit(\u001b[39m'\u001b[39m\u001b[39m.\u001b[39m\u001b[39m'\u001b[39m)[\u001b[39m0\u001b[39m], \u001b[39m'\u001b[39m\u001b[39mlabel\u001b[39m\u001b[39m'\u001b[39m]\n",
      "File \u001b[0;32m~/anaconda3/lib/python3.11/site-packages/pandas/core/indexing.py:1096\u001b[0m, in \u001b[0;36m_LocationIndexer.__getitem__\u001b[0;34m(self, key)\u001b[0m\n\u001b[1;32m   1094\u001b[0m     key \u001b[39m=\u001b[39m \u001b[39mtuple\u001b[39m(com\u001b[39m.\u001b[39mapply_if_callable(x, \u001b[39mself\u001b[39m\u001b[39m.\u001b[39mobj) \u001b[39mfor\u001b[39;00m x \u001b[39min\u001b[39;00m key)\n\u001b[1;32m   1095\u001b[0m     \u001b[39mif\u001b[39;00m \u001b[39mself\u001b[39m\u001b[39m.\u001b[39m_is_scalar_access(key):\n\u001b[0;32m-> 1096\u001b[0m         \u001b[39mreturn\u001b[39;00m \u001b[39mself\u001b[39m\u001b[39m.\u001b[39mobj\u001b[39m.\u001b[39m_get_value(\u001b[39m*\u001b[39mkey, takeable\u001b[39m=\u001b[39m\u001b[39mself\u001b[39m\u001b[39m.\u001b[39m_takeable)\n\u001b[1;32m   1097\u001b[0m     \u001b[39mreturn\u001b[39;00m \u001b[39mself\u001b[39m\u001b[39m.\u001b[39m_getitem_tuple(key)\n\u001b[1;32m   1098\u001b[0m \u001b[39melse\u001b[39;00m:\n\u001b[1;32m   1099\u001b[0m     \u001b[39m# we by definition only have the 0th axis\u001b[39;00m\n",
      "File \u001b[0;32m~/anaconda3/lib/python3.11/site-packages/pandas/core/frame.py:3877\u001b[0m, in \u001b[0;36mDataFrame._get_value\u001b[0;34m(self, index, col, takeable)\u001b[0m\n\u001b[1;32m   3871\u001b[0m engine \u001b[39m=\u001b[39m \u001b[39mself\u001b[39m\u001b[39m.\u001b[39mindex\u001b[39m.\u001b[39m_engine\n\u001b[1;32m   3873\u001b[0m \u001b[39mif\u001b[39;00m \u001b[39mnot\u001b[39;00m \u001b[39misinstance\u001b[39m(\u001b[39mself\u001b[39m\u001b[39m.\u001b[39mindex, MultiIndex):\n\u001b[1;32m   3874\u001b[0m     \u001b[39m# CategoricalIndex: Trying to use the engine fastpath may give incorrect\u001b[39;00m\n\u001b[1;32m   3875\u001b[0m     \u001b[39m#  results if our categories are integers that dont match our codes\u001b[39;00m\n\u001b[1;32m   3876\u001b[0m     \u001b[39m# IntervalIndex: IntervalTree has no get_loc\u001b[39;00m\n\u001b[0;32m-> 3877\u001b[0m     row \u001b[39m=\u001b[39m \u001b[39mself\u001b[39m\u001b[39m.\u001b[39mindex\u001b[39m.\u001b[39mget_loc(index)\n\u001b[1;32m   3878\u001b[0m     \u001b[39mreturn\u001b[39;00m series\u001b[39m.\u001b[39m_values[row]\n\u001b[1;32m   3880\u001b[0m \u001b[39m# For MultiIndex going through engine effectively restricts us to\u001b[39;00m\n\u001b[1;32m   3881\u001b[0m \u001b[39m#  same-length tuples; see test_get_set_value_no_partial_indexing\u001b[39;00m\n",
      "File \u001b[0;32m~/anaconda3/lib/python3.11/site-packages/pandas/core/indexes/base.py:3655\u001b[0m, in \u001b[0;36mIndex.get_loc\u001b[0;34m(self, key)\u001b[0m\n\u001b[1;32m   3653\u001b[0m     \u001b[39mreturn\u001b[39;00m \u001b[39mself\u001b[39m\u001b[39m.\u001b[39m_engine\u001b[39m.\u001b[39mget_loc(casted_key)\n\u001b[1;32m   3654\u001b[0m \u001b[39mexcept\u001b[39;00m \u001b[39mKeyError\u001b[39;00m \u001b[39mas\u001b[39;00m err:\n\u001b[0;32m-> 3655\u001b[0m     \u001b[39mraise\u001b[39;00m \u001b[39mKeyError\u001b[39;00m(key) \u001b[39mfrom\u001b[39;00m \u001b[39merr\u001b[39;00m\n\u001b[1;32m   3656\u001b[0m \u001b[39mexcept\u001b[39;00m \u001b[39mTypeError\u001b[39;00m:\n\u001b[1;32m   3657\u001b[0m     \u001b[39m# If we have a listlike key, _check_indexing_error will raise\u001b[39;00m\n\u001b[1;32m   3658\u001b[0m     \u001b[39m#  InvalidIndexError. Otherwise we fall through and re-raise\u001b[39;00m\n\u001b[1;32m   3659\u001b[0m     \u001b[39m#  the TypeError.\u001b[39;00m\n\u001b[1;32m   3660\u001b[0m     \u001b[39mself\u001b[39m\u001b[39m.\u001b[39m_check_indexing_error(key)\n",
      "\u001b[0;31mKeyError\u001b[0m: '/Users/nguyenvietthai/Downloads/training2017/A00001'"
     ]
    }
   ],
   "metadata": {}
  },
  {
   "cell_type": "code",
   "execution_count": 18,
   "source": [
    "data"
   ],
   "outputs": [
    {
     "output_type": "execute_result",
     "data": {
      "text/plain": [
       "array([[-127, -162, -197, ...,  -18,  -22,  -21]], dtype=int16)"
      ]
     },
     "metadata": {},
     "execution_count": 18
    }
   ],
   "metadata": {}
  },
  {
   "cell_type": "code",
   "execution_count": 19,
   "source": [
    "file"
   ],
   "outputs": [
    {
     "output_type": "execute_result",
     "data": {
      "text/plain": [
       "'/Users/nguyenvietthai/Downloads/training2017/A00001.mat'"
      ]
     },
     "metadata": {},
     "execution_count": 19
    }
   ],
   "metadata": {}
  },
  {
   "cell_type": "code",
   "execution_count": 20,
   "source": [
    "file.split('.')[0]"
   ],
   "outputs": [
    {
     "output_type": "execute_result",
     "data": {
      "text/plain": [
       "'/Users/nguyenvietthai/Downloads/training2017/A00001'"
      ]
     },
     "metadata": {},
     "execution_count": 20
    }
   ],
   "metadata": {}
  },
  {
   "cell_type": "code",
   "execution_count": 21,
   "source": [
    "filelist = os.listdir(path)"
   ],
   "outputs": [],
   "metadata": {}
  },
  {
   "cell_type": "code",
   "execution_count": 22,
   "source": [
    "file=\"A00001.mat\""
   ],
   "outputs": [],
   "metadata": {}
  },
  {
   "cell_type": "code",
   "execution_count": 23,
   "source": [
    "labels.loc[file.split('.')[0], 'label']"
   ],
   "outputs": [
    {
     "output_type": "execute_result",
     "data": {
      "text/plain": [
       "'N'"
      ]
     },
     "metadata": {},
     "execution_count": 23
    }
   ],
   "metadata": {}
  },
  {
   "cell_type": "code",
   "execution_count": 1,
   "source": [
    "import torch\n",
    "import numpy as np\n",
    "import os\n",
    "\n",
    "from utils import get_ecg, qrs_detection, get_segments, plot\n",
    "from data import build_dataloader\n",
    "from train import learn, cnn_feed_lstm"
   ],
   "outputs": [],
   "metadata": {}
  },
  {
   "cell_type": "code",
   "execution_count": 2,
   "source": [
    "PATH = \"/Users/nguyenvietthai/Downloads/training2017\"\n",
    "BATCH_SIZE = 2048\n",
    "EPOCH = 50\n",
    "FS = 300\n",
    "LENGTH = 9000\n",
    "LR = 1e-3\n",
    "RESAMP = False"
   ],
   "outputs": [],
   "metadata": {}
  },
  {
   "cell_type": "code",
   "execution_count": 3,
   "source": [
    "try:\n",
    "    segments = np.load('/Users/nguyenvietthai/Downloads/training2017/segment.npy')\n",
    "except:\n",
    "    signals, labels = get_ecg(PATH, length=LENGTH)\n",
    "    segments = np.zeros((245990, 1001))\n",
    "    k = 0\n",
    "    \n",
    "    for i, record in enumerate(signals):\n",
    "        print(\"running\",i)\n",
    "        rp = qrs_detection(record, sample_rate=FS)\n",
    "        seg = get_segments(record, rp, labels[i])\n",
    "        if seg is not None:\n",
    "            segments[k:k+seg.shape[0], :] = seg\n",
    "            k += seg.shape[0]\n",
    "    del signals, labels\n",
    "    \n",
    "    np.save('/Users/nguyenvietthai/Downloads/training2017/segment.npy', segments)"
   ],
   "outputs": [],
   "metadata": {}
  },
  {
   "cell_type": "code",
   "execution_count": 1,
   "source": [
    "import torch\n",
    "import numpy as np\n",
    "import os\n",
    "\n",
    "from utils import get_ecg, qrs_detection, get_segments, plot\n",
    "from data import build_dataloader\n",
    "from train import learn, cnn_feed_lstm"
   ],
   "outputs": [],
   "metadata": {}
  },
  {
   "cell_type": "code",
   "execution_count": 2,
   "source": [
    "PATH = \"/Users/nguyenvietthai/Downloads/training2017\"\n",
    "BATCH_SIZE = 2048\n",
    "EPOCH = 50\n",
    "FS = 300\n",
    "LENGTH = 9000\n",
    "LR = 1e-3\n",
    "RESAMP = False"
   ],
   "outputs": [],
   "metadata": {}
  },
  {
   "cell_type": "code",
   "execution_count": 3,
   "source": [
    "try:\n",
    "    segments = np.load('/Users/nguyenvietthai/Downloads/training2017/segment.npy')\n",
    "except:\n",
    "    signals, labels = get_ecg(PATH, length=LENGTH)\n",
    "    segments = np.zeros((245990, 1001))\n",
    "    k = 0\n",
    "    \n",
    "    for i, record in enumerate(signals):\n",
    "        print(\"running\",i)\n",
    "        rp = qrs_detection(record, sample_rate=FS)\n",
    "        seg = get_segments(record, rp, labels[i])\n",
    "        if seg is not None:\n",
    "            segments[k:k+seg.shape[0], :] = seg\n",
    "            k += seg.shape[0]\n",
    "    del signals, labels\n",
    "    \n",
    "    np.save('/Users/nguyenvietthai/Downloads/training2017/segment.npy', segments)"
   ],
   "outputs": [
    {
     "output_type": "stream",
     "name": "stdout",
     "text": [
      "running: A07848.mat\n"
     ]
    },
    {
     "output_type": "error",
     "ename": "",
     "evalue": "",
     "traceback": [
      "\u001b[1;31mThe Kernel crashed while executing code in the current cell or a previous cell. \n",
      "\u001b[1;31mPlease review the code in the cell(s) to identify a possible cause of the failure. \n",
      "\u001b[1;31mClick <a href='https://aka.ms/vscodeJupyterKernelCrash'>here</a> for more info. \n",
      "\u001b[1;31mView Jupyter <a href='command:jupyter.viewOutput'>log</a> for further details."
     ]
    }
   ],
   "metadata": {}
  },
  {
   "cell_type": "code",
   "execution_count": 1,
   "source": [
    "PATH = \"/Users/nguyenvietthai/Downloads/training2017\"\n",
    "BATCH_SIZE = 2048\n",
    "EPOCH = 50\n",
    "FS = 300\n",
    "LENGTH = 9000\n",
    "LR = 1e-3\n",
    "RESAMP = False"
   ],
   "outputs": [],
   "metadata": {}
  },
  {
   "cell_type": "code",
   "execution_count": 2,
   "source": [
    "try:\n",
    "    segments = np.load('/Users/nguyenvietthai/Downloads/training2017/segment.npy')\n",
    "except:\n",
    "    signals, labels = get_ecg(PATH, length=LENGTH)\n",
    "    segments = np.zeros((245990, 1001))\n",
    "    k = 0\n",
    "    \n",
    "    for i, record in enumerate(signals):\n",
    "        print(\"running\",i)\n",
    "        rp = qrs_detection(record, sample_rate=FS)\n",
    "        seg = get_segments(record, rp, labels[i])\n",
    "        if seg is not None:\n",
    "            segments[k:k+seg.shape[0], :] = seg\n",
    "            k += seg.shape[0]\n",
    "    del signals, labels\n",
    "    \n",
    "    np.save('/Users/nguyenvietthai/Downloads/training2017/segment.npy', segments)"
   ],
   "outputs": [
    {
     "output_type": "error",
     "ename": "NameError",
     "evalue": "name 'get_ecg' is not defined",
     "traceback": [
      "\u001b[0;31m---------------------------------------------------------------------------\u001b[0m",
      "\u001b[0;31mNameError\u001b[0m                                 Traceback (most recent call last)",
      "File \u001b[1;32m/Users/nguyenvietthai/Downloads/ECG-Signal-Analysis-master/src/main.py:3\u001b[0m\n\u001b[1;32m      2\u001b[0m \u001b[39mtry\u001b[39;00m:\n\u001b[0;32m----> 3\u001b[0m     segments \u001b[39m=\u001b[39m np\u001b[39m.\u001b[39mload(\u001b[39m'\u001b[39m\u001b[39m/Users/nguyenvietthai/Downloads/training2017/segment.npy\u001b[39m\u001b[39m'\u001b[39m)\n\u001b[1;32m      4\u001b[0m \u001b[39mexcept\u001b[39;00m:\n",
      "\u001b[0;31mNameError\u001b[0m: name 'np' is not defined",
      "\nDuring handling of the above exception, another exception occurred:\n",
      "\u001b[0;31mNameError\u001b[0m                                 Traceback (most recent call last)",
      "File \u001b[1;32m/Users/nguyenvietthai/Downloads/ECG-Signal-Analysis-master/src/main.py:5\u001b[0m\n\u001b[1;32m      3\u001b[0m     segments \u001b[39m=\u001b[39m np\u001b[39m.\u001b[39mload(\u001b[39m'\u001b[39m\u001b[39m/Users/nguyenvietthai/Downloads/training2017/segment.npy\u001b[39m\u001b[39m'\u001b[39m)\n\u001b[1;32m      4\u001b[0m \u001b[39mexcept\u001b[39;00m:\n\u001b[0;32m----> 5\u001b[0m     signals, labels \u001b[39m=\u001b[39m get_ecg(PATH, length\u001b[39m=\u001b[39mLENGTH)\n\u001b[1;32m      6\u001b[0m     segments \u001b[39m=\u001b[39m np\u001b[39m.\u001b[39mzeros((\u001b[39m245990\u001b[39m, \u001b[39m1001\u001b[39m))\n\u001b[1;32m      7\u001b[0m     k \u001b[39m=\u001b[39m \u001b[39m0\u001b[39m\n",
      "\u001b[0;31mNameError\u001b[0m: name 'get_ecg' is not defined"
     ]
    }
   ],
   "metadata": {}
  },
  {
   "cell_type": "code",
   "execution_count": 3,
   "source": [
    "import torch\n",
    "import numpy as np\n",
    "import os\n",
    "\n",
    "from utils import get_ecg, qrs_detection, get_segments, plot\n",
    "from data import build_dataloader\n",
    "from train import learn, cnn_feed_lstm"
   ],
   "outputs": [],
   "metadata": {}
  },
  {
   "cell_type": "code",
   "execution_count": 4,
   "source": [
    "PATH = \"/Users/nguyenvietthai/Downloads/training2017\"\n",
    "BATCH_SIZE = 2048\n",
    "EPOCH = 50\n",
    "FS = 300\n",
    "LENGTH = 9000\n",
    "LR = 1e-3\n",
    "RESAMP = False"
   ],
   "outputs": [],
   "metadata": {}
  },
  {
   "cell_type": "code",
   "execution_count": 5,
   "source": [
    "try:\n",
    "    segments = np.load('/Users/nguyenvietthai/Downloads/training2017/segment.npy')\n",
    "except:\n",
    "    signals, labels = get_ecg(PATH, length=LENGTH)\n",
    "    segments = np.zeros((245990, 1001))\n",
    "    k = 0\n",
    "    \n",
    "    for i, record in enumerate(signals):\n",
    "        print(\"running\",i)\n",
    "        rp = qrs_detection(record, sample_rate=FS)\n",
    "        seg = get_segments(record, rp, labels[i])\n",
    "        if seg is not None:\n",
    "            segments[k:k+seg.shape[0], :] = seg\n",
    "            k += seg.shape[0]\n",
    "    del signals, labels\n",
    "    \n",
    "    np.save('/Users/nguyenvietthai/Downloads/training2017/segment.npy', segments)"
   ],
   "outputs": [],
   "metadata": {}
  },
  {
   "cell_type": "code",
   "execution_count": 6,
   "source": [
    "loss, val_score = learn(net, train, test, lr=LR, epoch=EPOCH)\n",
    "plot(loss, val_score)"
   ],
   "outputs": [
    {
     "output_type": "error",
     "ename": "NameError",
     "evalue": "name 'net' is not defined",
     "traceback": [
      "\u001b[0;31m---------------------------------------------------------------------------\u001b[0m",
      "\u001b[0;31mNameError\u001b[0m                                 Traceback (most recent call last)",
      "File \u001b[1;32m/Users/nguyenvietthai/Downloads/ECG-Signal-Analysis-master/src/main.py:2\u001b[0m\n\u001b[1;32m      1\u001b[0m \u001b[39m#%%\u001b[39;00m\n\u001b[0;32m----> 2\u001b[0m loss, val_score \u001b[39m=\u001b[39m learn(net, train, test, lr\u001b[39m=\u001b[39mLR, epoch\u001b[39m=\u001b[39mEPOCH)\n\u001b[1;32m      3\u001b[0m plot(loss, val_score)\n",
      "\u001b[0;31mNameError\u001b[0m: name 'net' is not defined"
     ]
    }
   ],
   "metadata": {}
  },
  {
   "cell_type": "code",
   "execution_count": 7,
   "source": [
    "X, y = segments[:, :-1], segments[:, -1][:, np.newaxis]\n",
    "del segments\n",
    "\n",
    "train, test = build_dataloader(X, y, resamp=RESAMP, batch_size=BATCH_SIZE)\n",
    "del X, y\n",
    "\n",
    "net = cnn_feed_lstm()\n",
    "try:\n",
    "    params = torch.load(\"../params/net_0.81.pkl\")\n",
    "    net.load_state_dict(params[\"model_state_dict\"])\n",
    "except:\n",
    "    pass"
   ],
   "outputs": [
    {
     "output_type": "stream",
     "name": "stdout",
     "text": [
      "Start building dataloader.\n"
     ]
    }
   ],
   "metadata": {}
  },
  {
   "cell_type": "code",
   "execution_count": 8,
   "source": [
    "loss, val_score = learn(net, train, test, lr=LR, epoch=EPOCH)\n",
    "plot(loss, val_score)"
   ],
   "outputs": [
    {
     "output_type": "error",
     "ename": "AssertionError",
     "evalue": "Torch not compiled with CUDA enabled",
     "traceback": [
      "\u001b[0;31m---------------------------------------------------------------------------\u001b[0m",
      "\u001b[0;31mAssertionError\u001b[0m                            Traceback (most recent call last)",
      "File \u001b[1;32m/Users/nguyenvietthai/Downloads/ECG-Signal-Analysis-master/src/main.py:2\u001b[0m\n\u001b[1;32m      1\u001b[0m \u001b[39m#%%\u001b[39;00m\n\u001b[0;32m----> 2\u001b[0m loss, val_score \u001b[39m=\u001b[39m learn(net, train, test, lr\u001b[39m=\u001b[39mLR, epoch\u001b[39m=\u001b[39mEPOCH)\n\u001b[1;32m      3\u001b[0m plot(loss, val_score)\n",
      "File \u001b[0;32m~/Downloads/ECG-Signal-Analysis-master/src/train.py:130\u001b[0m, in \u001b[0;36mlearn\u001b[0;34m(net, train, test, lr, epoch)\u001b[0m\n\u001b[1;32m    127\u001b[0m \u001b[39mdef\u001b[39;00m \u001b[39mlearn\u001b[39m(net, train, test, lr\u001b[39m=\u001b[39m\u001b[39m1e-4\u001b[39m, epoch\u001b[39m=\u001b[39m\u001b[39m50\u001b[39m):\n\u001b[1;32m    129\u001b[0m     loss_data, val_score \u001b[39m=\u001b[39m [], [\u001b[39m0.\u001b[39m]\n\u001b[0;32m--> 130\u001b[0m     network \u001b[39m=\u001b[39m net\u001b[39m.\u001b[39mcuda()\n\u001b[1;32m    131\u001b[0m     loss_func \u001b[39m=\u001b[39m nn\u001b[39m.\u001b[39mCrossEntropyLoss()\n\u001b[1;32m    132\u001b[0m     optimizer \u001b[39m=\u001b[39m torch\u001b[39m.\u001b[39moptim\u001b[39m.\u001b[39mAdam(net\u001b[39m.\u001b[39mparameters(), lr\u001b[39m=\u001b[39mlr)\n",
      "File \u001b[0;32m~/anaconda3/lib/python3.11/site-packages/torch/nn/modules/module.py:918\u001b[0m, in \u001b[0;36mModule.cuda\u001b[0;34m(self, device)\u001b[0m\n\u001b[1;32m    901\u001b[0m \u001b[39mdef\u001b[39;00m \u001b[39mcuda\u001b[39m(\u001b[39mself\u001b[39m: T, device: Optional[Union[\u001b[39mint\u001b[39m, device]] \u001b[39m=\u001b[39m \u001b[39mNone\u001b[39;00m) \u001b[39m-\u001b[39m\u001b[39m>\u001b[39m T:\n\u001b[1;32m    902\u001b[0m \u001b[39m    \u001b[39m\u001b[39mr\u001b[39m\u001b[39m\"\"\"Moves all model parameters and buffers to the GPU.\u001b[39;00m\n\u001b[1;32m    903\u001b[0m \n\u001b[1;32m    904\u001b[0m \u001b[39m    This also makes associated parameters and buffers different objects. So\u001b[39;00m\n\u001b[0;32m   (...)\u001b[0m\n\u001b[1;32m    916\u001b[0m \u001b[39m        Module: self\u001b[39;00m\n\u001b[1;32m    917\u001b[0m \u001b[39m    \"\"\"\u001b[39;00m\n\u001b[0;32m--> 918\u001b[0m     \u001b[39mreturn\u001b[39;00m \u001b[39mself\u001b[39m\u001b[39m.\u001b[39m_apply(\u001b[39mlambda\u001b[39;00m t: t\u001b[39m.\u001b[39mcuda(device))\n",
      "File \u001b[0;32m~/anaconda3/lib/python3.11/site-packages/torch/nn/modules/module.py:810\u001b[0m, in \u001b[0;36mModule._apply\u001b[0;34m(self, fn, recurse)\u001b[0m\n\u001b[1;32m    808\u001b[0m \u001b[39mif\u001b[39;00m recurse:\n\u001b[1;32m    809\u001b[0m     \u001b[39mfor\u001b[39;00m module \u001b[39min\u001b[39;00m \u001b[39mself\u001b[39m\u001b[39m.\u001b[39mchildren():\n\u001b[0;32m--> 810\u001b[0m         module\u001b[39m.\u001b[39m_apply(fn)\n\u001b[1;32m    812\u001b[0m \u001b[39mdef\u001b[39;00m \u001b[39mcompute_should_use_set_data\u001b[39m(tensor, tensor_applied):\n\u001b[1;32m    813\u001b[0m     \u001b[39mif\u001b[39;00m torch\u001b[39m.\u001b[39m_has_compatible_shallow_copy_type(tensor, tensor_applied):\n\u001b[1;32m    814\u001b[0m         \u001b[39m# If the new tensor has compatible tensor type as the existing tensor,\u001b[39;00m\n\u001b[1;32m    815\u001b[0m         \u001b[39m# the current behavior is to change the tensor in-place using `.data =`,\u001b[39;00m\n\u001b[0;32m   (...)\u001b[0m\n\u001b[1;32m    820\u001b[0m         \u001b[39m# global flag to let the user control whether they want the future\u001b[39;00m\n\u001b[1;32m    821\u001b[0m         \u001b[39m# behavior of overwriting the existing tensor or not.\u001b[39;00m\n",
      "File \u001b[0;32m~/anaconda3/lib/python3.11/site-packages/torch/nn/modules/module.py:810\u001b[0m, in \u001b[0;36mModule._apply\u001b[0;34m(self, fn, recurse)\u001b[0m\n\u001b[1;32m    808\u001b[0m \u001b[39mif\u001b[39;00m recurse:\n\u001b[1;32m    809\u001b[0m     \u001b[39mfor\u001b[39;00m module \u001b[39min\u001b[39;00m \u001b[39mself\u001b[39m\u001b[39m.\u001b[39mchildren():\n\u001b[0;32m--> 810\u001b[0m         module\u001b[39m.\u001b[39m_apply(fn)\n\u001b[1;32m    812\u001b[0m \u001b[39mdef\u001b[39;00m \u001b[39mcompute_should_use_set_data\u001b[39m(tensor, tensor_applied):\n\u001b[1;32m    813\u001b[0m     \u001b[39mif\u001b[39;00m torch\u001b[39m.\u001b[39m_has_compatible_shallow_copy_type(tensor, tensor_applied):\n\u001b[1;32m    814\u001b[0m         \u001b[39m# If the new tensor has compatible tensor type as the existing tensor,\u001b[39;00m\n\u001b[1;32m    815\u001b[0m         \u001b[39m# the current behavior is to change the tensor in-place using `.data =`,\u001b[39;00m\n\u001b[0;32m   (...)\u001b[0m\n\u001b[1;32m    820\u001b[0m         \u001b[39m# global flag to let the user control whether they want the future\u001b[39;00m\n\u001b[1;32m    821\u001b[0m         \u001b[39m# behavior of overwriting the existing tensor or not.\u001b[39;00m\n",
      "File \u001b[0;32m~/anaconda3/lib/python3.11/site-packages/torch/nn/modules/module.py:810\u001b[0m, in \u001b[0;36mModule._apply\u001b[0;34m(self, fn, recurse)\u001b[0m\n\u001b[1;32m    808\u001b[0m \u001b[39mif\u001b[39;00m recurse:\n\u001b[1;32m    809\u001b[0m     \u001b[39mfor\u001b[39;00m module \u001b[39min\u001b[39;00m \u001b[39mself\u001b[39m\u001b[39m.\u001b[39mchildren():\n\u001b[0;32m--> 810\u001b[0m         module\u001b[39m.\u001b[39m_apply(fn)\n\u001b[1;32m    812\u001b[0m \u001b[39mdef\u001b[39;00m \u001b[39mcompute_should_use_set_data\u001b[39m(tensor, tensor_applied):\n\u001b[1;32m    813\u001b[0m     \u001b[39mif\u001b[39;00m torch\u001b[39m.\u001b[39m_has_compatible_shallow_copy_type(tensor, tensor_applied):\n\u001b[1;32m    814\u001b[0m         \u001b[39m# If the new tensor has compatible tensor type as the existing tensor,\u001b[39;00m\n\u001b[1;32m    815\u001b[0m         \u001b[39m# the current behavior is to change the tensor in-place using `.data =`,\u001b[39;00m\n\u001b[0;32m   (...)\u001b[0m\n\u001b[1;32m    820\u001b[0m         \u001b[39m# global flag to let the user control whether they want the future\u001b[39;00m\n\u001b[1;32m    821\u001b[0m         \u001b[39m# behavior of overwriting the existing tensor or not.\u001b[39;00m\n",
      "File \u001b[0;32m~/anaconda3/lib/python3.11/site-packages/torch/nn/modules/module.py:833\u001b[0m, in \u001b[0;36mModule._apply\u001b[0;34m(self, fn, recurse)\u001b[0m\n\u001b[1;32m    829\u001b[0m \u001b[39m# Tensors stored in modules are graph leaves, and we don't want to\u001b[39;00m\n\u001b[1;32m    830\u001b[0m \u001b[39m# track autograd history of `param_applied`, so we have to use\u001b[39;00m\n\u001b[1;32m    831\u001b[0m \u001b[39m# `with torch.no_grad():`\u001b[39;00m\n\u001b[1;32m    832\u001b[0m \u001b[39mwith\u001b[39;00m torch\u001b[39m.\u001b[39mno_grad():\n\u001b[0;32m--> 833\u001b[0m     param_applied \u001b[39m=\u001b[39m fn(param)\n\u001b[1;32m    834\u001b[0m should_use_set_data \u001b[39m=\u001b[39m compute_should_use_set_data(param, param_applied)\n\u001b[1;32m    835\u001b[0m \u001b[39mif\u001b[39;00m should_use_set_data:\n",
      "File \u001b[0;32m~/anaconda3/lib/python3.11/site-packages/torch/nn/modules/module.py:918\u001b[0m, in \u001b[0;36mModule.cuda.<locals>.<lambda>\u001b[0;34m(t)\u001b[0m\n\u001b[1;32m    901\u001b[0m \u001b[39mdef\u001b[39;00m \u001b[39mcuda\u001b[39m(\u001b[39mself\u001b[39m: T, device: Optional[Union[\u001b[39mint\u001b[39m, device]] \u001b[39m=\u001b[39m \u001b[39mNone\u001b[39;00m) \u001b[39m-\u001b[39m\u001b[39m>\u001b[39m T:\n\u001b[1;32m    902\u001b[0m \u001b[39m    \u001b[39m\u001b[39mr\u001b[39m\u001b[39m\"\"\"Moves all model parameters and buffers to the GPU.\u001b[39;00m\n\u001b[1;32m    903\u001b[0m \n\u001b[1;32m    904\u001b[0m \u001b[39m    This also makes associated parameters and buffers different objects. So\u001b[39;00m\n\u001b[0;32m   (...)\u001b[0m\n\u001b[1;32m    916\u001b[0m \u001b[39m        Module: self\u001b[39;00m\n\u001b[1;32m    917\u001b[0m \u001b[39m    \"\"\"\u001b[39;00m\n\u001b[0;32m--> 918\u001b[0m     \u001b[39mreturn\u001b[39;00m \u001b[39mself\u001b[39m\u001b[39m.\u001b[39m_apply(\u001b[39mlambda\u001b[39;00m t: t\u001b[39m.\u001b[39mcuda(device))\n",
      "File \u001b[0;32m~/anaconda3/lib/python3.11/site-packages/torch/cuda/__init__.py:289\u001b[0m, in \u001b[0;36m_lazy_init\u001b[0;34m()\u001b[0m\n\u001b[1;32m    284\u001b[0m     \u001b[39mraise\u001b[39;00m \u001b[39mRuntimeError\u001b[39;00m(\n\u001b[1;32m    285\u001b[0m         \u001b[39m\"\u001b[39m\u001b[39mCannot re-initialize CUDA in forked subprocess. To use CUDA with \u001b[39m\u001b[39m\"\u001b[39m\n\u001b[1;32m    286\u001b[0m         \u001b[39m\"\u001b[39m\u001b[39mmultiprocessing, you must use the \u001b[39m\u001b[39m'\u001b[39m\u001b[39mspawn\u001b[39m\u001b[39m'\u001b[39m\u001b[39m start method\u001b[39m\u001b[39m\"\u001b[39m\n\u001b[1;32m    287\u001b[0m     )\n\u001b[1;32m    288\u001b[0m \u001b[39mif\u001b[39;00m \u001b[39mnot\u001b[39;00m \u001b[39mhasattr\u001b[39m(torch\u001b[39m.\u001b[39m_C, \u001b[39m\"\u001b[39m\u001b[39m_cuda_getDeviceCount\u001b[39m\u001b[39m\"\u001b[39m):\n\u001b[0;32m--> 289\u001b[0m     \u001b[39mraise\u001b[39;00m \u001b[39mAssertionError\u001b[39;00m(\u001b[39m\"\u001b[39m\u001b[39mTorch not compiled with CUDA enabled\u001b[39m\u001b[39m\"\u001b[39m)\n\u001b[1;32m    290\u001b[0m \u001b[39mif\u001b[39;00m _cudart \u001b[39mis\u001b[39;00m \u001b[39mNone\u001b[39;00m:\n\u001b[1;32m    291\u001b[0m     \u001b[39mraise\u001b[39;00m \u001b[39mAssertionError\u001b[39;00m(\n\u001b[1;32m    292\u001b[0m         \u001b[39m\"\u001b[39m\u001b[39mlibcudart functions unavailable. It looks like you have a broken build?\u001b[39m\u001b[39m\"\u001b[39m\n\u001b[1;32m    293\u001b[0m     )\n",
      "\u001b[0;31mAssertionError\u001b[0m: Torch not compiled with CUDA enabled"
     ]
    }
   ],
   "metadata": {}
  },
  {
   "cell_type": "code",
   "execution_count": 9,
   "source": [
    "loss, val_score = learn(net, train, test, lr=LR, epoch=EPOCH)\n",
    "plot(loss, val_score)"
   ],
   "outputs": [
    {
     "output_type": "error",
     "ename": "AssertionError",
     "evalue": "Torch not compiled with CUDA enabled",
     "traceback": [
      "\u001b[0;31m---------------------------------------------------------------------------\u001b[0m",
      "\u001b[0;31mAssertionError\u001b[0m                            Traceback (most recent call last)",
      "File \u001b[1;32m/Users/nguyenvietthai/Downloads/ECG-Signal-Analysis-master/src/main.py:2\u001b[0m\n\u001b[1;32m      1\u001b[0m \u001b[39m#%%\u001b[39;00m\n\u001b[0;32m----> 2\u001b[0m loss, val_score \u001b[39m=\u001b[39m learn(net, train, test, lr\u001b[39m=\u001b[39mLR, epoch\u001b[39m=\u001b[39mEPOCH)\n\u001b[1;32m      3\u001b[0m plot(loss, val_score)\n",
      "File \u001b[0;32m~/Downloads/ECG-Signal-Analysis-master/src/train.py:130\u001b[0m, in \u001b[0;36mlearn\u001b[0;34m(net, train, test, lr, epoch)\u001b[0m\n\u001b[1;32m    127\u001b[0m \u001b[39mdef\u001b[39;00m \u001b[39mlearn\u001b[39m(net, train, test, lr\u001b[39m=\u001b[39m\u001b[39m1e-4\u001b[39m, epoch\u001b[39m=\u001b[39m\u001b[39m50\u001b[39m):\n\u001b[1;32m    129\u001b[0m     loss_data, val_score \u001b[39m=\u001b[39m [], [\u001b[39m0.\u001b[39m]\n\u001b[0;32m--> 130\u001b[0m     network \u001b[39m=\u001b[39m net\u001b[39m.\u001b[39mcuda()\n\u001b[1;32m    131\u001b[0m     loss_func \u001b[39m=\u001b[39m nn\u001b[39m.\u001b[39mCrossEntropyLoss()\n\u001b[1;32m    132\u001b[0m     optimizer \u001b[39m=\u001b[39m torch\u001b[39m.\u001b[39moptim\u001b[39m.\u001b[39mAdam(net\u001b[39m.\u001b[39mparameters(), lr\u001b[39m=\u001b[39mlr)\n",
      "File \u001b[0;32m~/anaconda3/lib/python3.11/site-packages/torch/nn/modules/module.py:918\u001b[0m, in \u001b[0;36mModule.cuda\u001b[0;34m(self, device)\u001b[0m\n\u001b[1;32m    901\u001b[0m \u001b[39mdef\u001b[39;00m \u001b[39mcuda\u001b[39m(\u001b[39mself\u001b[39m: T, device: Optional[Union[\u001b[39mint\u001b[39m, device]] \u001b[39m=\u001b[39m \u001b[39mNone\u001b[39;00m) \u001b[39m-\u001b[39m\u001b[39m>\u001b[39m T:\n\u001b[1;32m    902\u001b[0m \u001b[39m    \u001b[39m\u001b[39mr\u001b[39m\u001b[39m\"\"\"Moves all model parameters and buffers to the GPU.\u001b[39;00m\n\u001b[1;32m    903\u001b[0m \n\u001b[1;32m    904\u001b[0m \u001b[39m    This also makes associated parameters and buffers different objects. So\u001b[39;00m\n\u001b[0;32m   (...)\u001b[0m\n\u001b[1;32m    916\u001b[0m \u001b[39m        Module: self\u001b[39;00m\n\u001b[1;32m    917\u001b[0m \u001b[39m    \"\"\"\u001b[39;00m\n\u001b[0;32m--> 918\u001b[0m     \u001b[39mreturn\u001b[39;00m \u001b[39mself\u001b[39m\u001b[39m.\u001b[39m_apply(\u001b[39mlambda\u001b[39;00m t: t\u001b[39m.\u001b[39mcuda(device))\n",
      "File \u001b[0;32m~/anaconda3/lib/python3.11/site-packages/torch/nn/modules/module.py:810\u001b[0m, in \u001b[0;36mModule._apply\u001b[0;34m(self, fn, recurse)\u001b[0m\n\u001b[1;32m    808\u001b[0m \u001b[39mif\u001b[39;00m recurse:\n\u001b[1;32m    809\u001b[0m     \u001b[39mfor\u001b[39;00m module \u001b[39min\u001b[39;00m \u001b[39mself\u001b[39m\u001b[39m.\u001b[39mchildren():\n\u001b[0;32m--> 810\u001b[0m         module\u001b[39m.\u001b[39m_apply(fn)\n\u001b[1;32m    812\u001b[0m \u001b[39mdef\u001b[39;00m \u001b[39mcompute_should_use_set_data\u001b[39m(tensor, tensor_applied):\n\u001b[1;32m    813\u001b[0m     \u001b[39mif\u001b[39;00m torch\u001b[39m.\u001b[39m_has_compatible_shallow_copy_type(tensor, tensor_applied):\n\u001b[1;32m    814\u001b[0m         \u001b[39m# If the new tensor has compatible tensor type as the existing tensor,\u001b[39;00m\n\u001b[1;32m    815\u001b[0m         \u001b[39m# the current behavior is to change the tensor in-place using `.data =`,\u001b[39;00m\n\u001b[0;32m   (...)\u001b[0m\n\u001b[1;32m    820\u001b[0m         \u001b[39m# global flag to let the user control whether they want the future\u001b[39;00m\n\u001b[1;32m    821\u001b[0m         \u001b[39m# behavior of overwriting the existing tensor or not.\u001b[39;00m\n",
      "File \u001b[0;32m~/anaconda3/lib/python3.11/site-packages/torch/nn/modules/module.py:810\u001b[0m, in \u001b[0;36mModule._apply\u001b[0;34m(self, fn, recurse)\u001b[0m\n\u001b[1;32m    808\u001b[0m \u001b[39mif\u001b[39;00m recurse:\n\u001b[1;32m    809\u001b[0m     \u001b[39mfor\u001b[39;00m module \u001b[39min\u001b[39;00m \u001b[39mself\u001b[39m\u001b[39m.\u001b[39mchildren():\n\u001b[0;32m--> 810\u001b[0m         module\u001b[39m.\u001b[39m_apply(fn)\n\u001b[1;32m    812\u001b[0m \u001b[39mdef\u001b[39;00m \u001b[39mcompute_should_use_set_data\u001b[39m(tensor, tensor_applied):\n\u001b[1;32m    813\u001b[0m     \u001b[39mif\u001b[39;00m torch\u001b[39m.\u001b[39m_has_compatible_shallow_copy_type(tensor, tensor_applied):\n\u001b[1;32m    814\u001b[0m         \u001b[39m# If the new tensor has compatible tensor type as the existing tensor,\u001b[39;00m\n\u001b[1;32m    815\u001b[0m         \u001b[39m# the current behavior is to change the tensor in-place using `.data =`,\u001b[39;00m\n\u001b[0;32m   (...)\u001b[0m\n\u001b[1;32m    820\u001b[0m         \u001b[39m# global flag to let the user control whether they want the future\u001b[39;00m\n\u001b[1;32m    821\u001b[0m         \u001b[39m# behavior of overwriting the existing tensor or not.\u001b[39;00m\n",
      "File \u001b[0;32m~/anaconda3/lib/python3.11/site-packages/torch/nn/modules/module.py:810\u001b[0m, in \u001b[0;36mModule._apply\u001b[0;34m(self, fn, recurse)\u001b[0m\n\u001b[1;32m    808\u001b[0m \u001b[39mif\u001b[39;00m recurse:\n\u001b[1;32m    809\u001b[0m     \u001b[39mfor\u001b[39;00m module \u001b[39min\u001b[39;00m \u001b[39mself\u001b[39m\u001b[39m.\u001b[39mchildren():\n\u001b[0;32m--> 810\u001b[0m         module\u001b[39m.\u001b[39m_apply(fn)\n\u001b[1;32m    812\u001b[0m \u001b[39mdef\u001b[39;00m \u001b[39mcompute_should_use_set_data\u001b[39m(tensor, tensor_applied):\n\u001b[1;32m    813\u001b[0m     \u001b[39mif\u001b[39;00m torch\u001b[39m.\u001b[39m_has_compatible_shallow_copy_type(tensor, tensor_applied):\n\u001b[1;32m    814\u001b[0m         \u001b[39m# If the new tensor has compatible tensor type as the existing tensor,\u001b[39;00m\n\u001b[1;32m    815\u001b[0m         \u001b[39m# the current behavior is to change the tensor in-place using `.data =`,\u001b[39;00m\n\u001b[0;32m   (...)\u001b[0m\n\u001b[1;32m    820\u001b[0m         \u001b[39m# global flag to let the user control whether they want the future\u001b[39;00m\n\u001b[1;32m    821\u001b[0m         \u001b[39m# behavior of overwriting the existing tensor or not.\u001b[39;00m\n",
      "File \u001b[0;32m~/anaconda3/lib/python3.11/site-packages/torch/nn/modules/module.py:833\u001b[0m, in \u001b[0;36mModule._apply\u001b[0;34m(self, fn, recurse)\u001b[0m\n\u001b[1;32m    829\u001b[0m \u001b[39m# Tensors stored in modules are graph leaves, and we don't want to\u001b[39;00m\n\u001b[1;32m    830\u001b[0m \u001b[39m# track autograd history of `param_applied`, so we have to use\u001b[39;00m\n\u001b[1;32m    831\u001b[0m \u001b[39m# `with torch.no_grad():`\u001b[39;00m\n\u001b[1;32m    832\u001b[0m \u001b[39mwith\u001b[39;00m torch\u001b[39m.\u001b[39mno_grad():\n\u001b[0;32m--> 833\u001b[0m     param_applied \u001b[39m=\u001b[39m fn(param)\n\u001b[1;32m    834\u001b[0m should_use_set_data \u001b[39m=\u001b[39m compute_should_use_set_data(param, param_applied)\n\u001b[1;32m    835\u001b[0m \u001b[39mif\u001b[39;00m should_use_set_data:\n",
      "File \u001b[0;32m~/anaconda3/lib/python3.11/site-packages/torch/nn/modules/module.py:918\u001b[0m, in \u001b[0;36mModule.cuda.<locals>.<lambda>\u001b[0;34m(t)\u001b[0m\n\u001b[1;32m    901\u001b[0m \u001b[39mdef\u001b[39;00m \u001b[39mcuda\u001b[39m(\u001b[39mself\u001b[39m: T, device: Optional[Union[\u001b[39mint\u001b[39m, device]] \u001b[39m=\u001b[39m \u001b[39mNone\u001b[39;00m) \u001b[39m-\u001b[39m\u001b[39m>\u001b[39m T:\n\u001b[1;32m    902\u001b[0m \u001b[39m    \u001b[39m\u001b[39mr\u001b[39m\u001b[39m\"\"\"Moves all model parameters and buffers to the GPU.\u001b[39;00m\n\u001b[1;32m    903\u001b[0m \n\u001b[1;32m    904\u001b[0m \u001b[39m    This also makes associated parameters and buffers different objects. So\u001b[39;00m\n\u001b[0;32m   (...)\u001b[0m\n\u001b[1;32m    916\u001b[0m \u001b[39m        Module: self\u001b[39;00m\n\u001b[1;32m    917\u001b[0m \u001b[39m    \"\"\"\u001b[39;00m\n\u001b[0;32m--> 918\u001b[0m     \u001b[39mreturn\u001b[39;00m \u001b[39mself\u001b[39m\u001b[39m.\u001b[39m_apply(\u001b[39mlambda\u001b[39;00m t: t\u001b[39m.\u001b[39mcuda(device))\n",
      "File \u001b[0;32m~/anaconda3/lib/python3.11/site-packages/torch/cuda/__init__.py:289\u001b[0m, in \u001b[0;36m_lazy_init\u001b[0;34m()\u001b[0m\n\u001b[1;32m    284\u001b[0m     \u001b[39mraise\u001b[39;00m \u001b[39mRuntimeError\u001b[39;00m(\n\u001b[1;32m    285\u001b[0m         \u001b[39m\"\u001b[39m\u001b[39mCannot re-initialize CUDA in forked subprocess. To use CUDA with \u001b[39m\u001b[39m\"\u001b[39m\n\u001b[1;32m    286\u001b[0m         \u001b[39m\"\u001b[39m\u001b[39mmultiprocessing, you must use the \u001b[39m\u001b[39m'\u001b[39m\u001b[39mspawn\u001b[39m\u001b[39m'\u001b[39m\u001b[39m start method\u001b[39m\u001b[39m\"\u001b[39m\n\u001b[1;32m    287\u001b[0m     )\n\u001b[1;32m    288\u001b[0m \u001b[39mif\u001b[39;00m \u001b[39mnot\u001b[39;00m \u001b[39mhasattr\u001b[39m(torch\u001b[39m.\u001b[39m_C, \u001b[39m\"\u001b[39m\u001b[39m_cuda_getDeviceCount\u001b[39m\u001b[39m\"\u001b[39m):\n\u001b[0;32m--> 289\u001b[0m     \u001b[39mraise\u001b[39;00m \u001b[39mAssertionError\u001b[39;00m(\u001b[39m\"\u001b[39m\u001b[39mTorch not compiled with CUDA enabled\u001b[39m\u001b[39m\"\u001b[39m)\n\u001b[1;32m    290\u001b[0m \u001b[39mif\u001b[39;00m _cudart \u001b[39mis\u001b[39;00m \u001b[39mNone\u001b[39;00m:\n\u001b[1;32m    291\u001b[0m     \u001b[39mraise\u001b[39;00m \u001b[39mAssertionError\u001b[39;00m(\n\u001b[1;32m    292\u001b[0m         \u001b[39m\"\u001b[39m\u001b[39mlibcudart functions unavailable. It looks like you have a broken build?\u001b[39m\u001b[39m\"\u001b[39m\n\u001b[1;32m    293\u001b[0m     )\n",
      "\u001b[0;31mAssertionError\u001b[0m: Torch not compiled with CUDA enabled"
     ]
    }
   ],
   "metadata": {}
  },
  {
   "cell_type": "code",
   "execution_count": 10,
   "source": [
    "loss, val_score = learn(net, train, test, lr=LR, epoch=EPOCH)\n",
    "plot(loss, val_score)"
   ],
   "outputs": [
    {
     "output_type": "error",
     "ename": "AssertionError",
     "evalue": "Torch not compiled with CUDA enabled",
     "traceback": [
      "\u001b[0;31m---------------------------------------------------------------------------\u001b[0m",
      "\u001b[0;31mAssertionError\u001b[0m                            Traceback (most recent call last)",
      "File \u001b[1;32m/Users/nguyenvietthai/Downloads/ECG-Signal-Analysis-master/src/main.py:2\u001b[0m\n\u001b[1;32m      1\u001b[0m \u001b[39m#%%\u001b[39;00m\n\u001b[0;32m----> 2\u001b[0m loss, val_score \u001b[39m=\u001b[39m learn(net, train, test, lr\u001b[39m=\u001b[39mLR, epoch\u001b[39m=\u001b[39mEPOCH)\n\u001b[1;32m      3\u001b[0m plot(loss, val_score)\n",
      "File \u001b[0;32m~/Downloads/ECG-Signal-Analysis-master/src/train.py:130\u001b[0m, in \u001b[0;36mlearn\u001b[0;34m(net, train, test, lr, epoch)\u001b[0m\n\u001b[1;32m    127\u001b[0m \u001b[39mdef\u001b[39;00m \u001b[39mlearn\u001b[39m(net, train, test, lr\u001b[39m=\u001b[39m\u001b[39m1e-4\u001b[39m, epoch\u001b[39m=\u001b[39m\u001b[39m50\u001b[39m):\n\u001b[1;32m    129\u001b[0m     loss_data, val_score \u001b[39m=\u001b[39m [], [\u001b[39m0.\u001b[39m]\n\u001b[0;32m--> 130\u001b[0m     network \u001b[39m=\u001b[39m net\u001b[39m.\u001b[39mcuda()\n\u001b[1;32m    131\u001b[0m     loss_func \u001b[39m=\u001b[39m nn\u001b[39m.\u001b[39mCrossEntropyLoss()\n\u001b[1;32m    132\u001b[0m     optimizer \u001b[39m=\u001b[39m torch\u001b[39m.\u001b[39moptim\u001b[39m.\u001b[39mAdam(net\u001b[39m.\u001b[39mparameters(), lr\u001b[39m=\u001b[39mlr)\n",
      "File \u001b[0;32m~/anaconda3/lib/python3.11/site-packages/torch/nn/modules/module.py:918\u001b[0m, in \u001b[0;36mModule.cuda\u001b[0;34m(self, device)\u001b[0m\n\u001b[1;32m    901\u001b[0m \u001b[39mdef\u001b[39;00m \u001b[39mcuda\u001b[39m(\u001b[39mself\u001b[39m: T, device: Optional[Union[\u001b[39mint\u001b[39m, device]] \u001b[39m=\u001b[39m \u001b[39mNone\u001b[39;00m) \u001b[39m-\u001b[39m\u001b[39m>\u001b[39m T:\n\u001b[1;32m    902\u001b[0m \u001b[39m    \u001b[39m\u001b[39mr\u001b[39m\u001b[39m\"\"\"Moves all model parameters and buffers to the GPU.\u001b[39;00m\n\u001b[1;32m    903\u001b[0m \n\u001b[1;32m    904\u001b[0m \u001b[39m    This also makes associated parameters and buffers different objects. So\u001b[39;00m\n\u001b[0;32m   (...)\u001b[0m\n\u001b[1;32m    916\u001b[0m \u001b[39m        Module: self\u001b[39;00m\n\u001b[1;32m    917\u001b[0m \u001b[39m    \"\"\"\u001b[39;00m\n\u001b[0;32m--> 918\u001b[0m     \u001b[39mreturn\u001b[39;00m \u001b[39mself\u001b[39m\u001b[39m.\u001b[39m_apply(\u001b[39mlambda\u001b[39;00m t: t\u001b[39m.\u001b[39mcuda(device))\n",
      "File \u001b[0;32m~/anaconda3/lib/python3.11/site-packages/torch/nn/modules/module.py:810\u001b[0m, in \u001b[0;36mModule._apply\u001b[0;34m(self, fn, recurse)\u001b[0m\n\u001b[1;32m    808\u001b[0m \u001b[39mif\u001b[39;00m recurse:\n\u001b[1;32m    809\u001b[0m     \u001b[39mfor\u001b[39;00m module \u001b[39min\u001b[39;00m \u001b[39mself\u001b[39m\u001b[39m.\u001b[39mchildren():\n\u001b[0;32m--> 810\u001b[0m         module\u001b[39m.\u001b[39m_apply(fn)\n\u001b[1;32m    812\u001b[0m \u001b[39mdef\u001b[39;00m \u001b[39mcompute_should_use_set_data\u001b[39m(tensor, tensor_applied):\n\u001b[1;32m    813\u001b[0m     \u001b[39mif\u001b[39;00m torch\u001b[39m.\u001b[39m_has_compatible_shallow_copy_type(tensor, tensor_applied):\n\u001b[1;32m    814\u001b[0m         \u001b[39m# If the new tensor has compatible tensor type as the existing tensor,\u001b[39;00m\n\u001b[1;32m    815\u001b[0m         \u001b[39m# the current behavior is to change the tensor in-place using `.data =`,\u001b[39;00m\n\u001b[0;32m   (...)\u001b[0m\n\u001b[1;32m    820\u001b[0m         \u001b[39m# global flag to let the user control whether they want the future\u001b[39;00m\n\u001b[1;32m    821\u001b[0m         \u001b[39m# behavior of overwriting the existing tensor or not.\u001b[39;00m\n",
      "File \u001b[0;32m~/anaconda3/lib/python3.11/site-packages/torch/nn/modules/module.py:810\u001b[0m, in \u001b[0;36mModule._apply\u001b[0;34m(self, fn, recurse)\u001b[0m\n\u001b[1;32m    808\u001b[0m \u001b[39mif\u001b[39;00m recurse:\n\u001b[1;32m    809\u001b[0m     \u001b[39mfor\u001b[39;00m module \u001b[39min\u001b[39;00m \u001b[39mself\u001b[39m\u001b[39m.\u001b[39mchildren():\n\u001b[0;32m--> 810\u001b[0m         module\u001b[39m.\u001b[39m_apply(fn)\n\u001b[1;32m    812\u001b[0m \u001b[39mdef\u001b[39;00m \u001b[39mcompute_should_use_set_data\u001b[39m(tensor, tensor_applied):\n\u001b[1;32m    813\u001b[0m     \u001b[39mif\u001b[39;00m torch\u001b[39m.\u001b[39m_has_compatible_shallow_copy_type(tensor, tensor_applied):\n\u001b[1;32m    814\u001b[0m         \u001b[39m# If the new tensor has compatible tensor type as the existing tensor,\u001b[39;00m\n\u001b[1;32m    815\u001b[0m         \u001b[39m# the current behavior is to change the tensor in-place using `.data =`,\u001b[39;00m\n\u001b[0;32m   (...)\u001b[0m\n\u001b[1;32m    820\u001b[0m         \u001b[39m# global flag to let the user control whether they want the future\u001b[39;00m\n\u001b[1;32m    821\u001b[0m         \u001b[39m# behavior of overwriting the existing tensor or not.\u001b[39;00m\n",
      "File \u001b[0;32m~/anaconda3/lib/python3.11/site-packages/torch/nn/modules/module.py:810\u001b[0m, in \u001b[0;36mModule._apply\u001b[0;34m(self, fn, recurse)\u001b[0m\n\u001b[1;32m    808\u001b[0m \u001b[39mif\u001b[39;00m recurse:\n\u001b[1;32m    809\u001b[0m     \u001b[39mfor\u001b[39;00m module \u001b[39min\u001b[39;00m \u001b[39mself\u001b[39m\u001b[39m.\u001b[39mchildren():\n\u001b[0;32m--> 810\u001b[0m         module\u001b[39m.\u001b[39m_apply(fn)\n\u001b[1;32m    812\u001b[0m \u001b[39mdef\u001b[39;00m \u001b[39mcompute_should_use_set_data\u001b[39m(tensor, tensor_applied):\n\u001b[1;32m    813\u001b[0m     \u001b[39mif\u001b[39;00m torch\u001b[39m.\u001b[39m_has_compatible_shallow_copy_type(tensor, tensor_applied):\n\u001b[1;32m    814\u001b[0m         \u001b[39m# If the new tensor has compatible tensor type as the existing tensor,\u001b[39;00m\n\u001b[1;32m    815\u001b[0m         \u001b[39m# the current behavior is to change the tensor in-place using `.data =`,\u001b[39;00m\n\u001b[0;32m   (...)\u001b[0m\n\u001b[1;32m    820\u001b[0m         \u001b[39m# global flag to let the user control whether they want the future\u001b[39;00m\n\u001b[1;32m    821\u001b[0m         \u001b[39m# behavior of overwriting the existing tensor or not.\u001b[39;00m\n",
      "File \u001b[0;32m~/anaconda3/lib/python3.11/site-packages/torch/nn/modules/module.py:833\u001b[0m, in \u001b[0;36mModule._apply\u001b[0;34m(self, fn, recurse)\u001b[0m\n\u001b[1;32m    829\u001b[0m \u001b[39m# Tensors stored in modules are graph leaves, and we don't want to\u001b[39;00m\n\u001b[1;32m    830\u001b[0m \u001b[39m# track autograd history of `param_applied`, so we have to use\u001b[39;00m\n\u001b[1;32m    831\u001b[0m \u001b[39m# `with torch.no_grad():`\u001b[39;00m\n\u001b[1;32m    832\u001b[0m \u001b[39mwith\u001b[39;00m torch\u001b[39m.\u001b[39mno_grad():\n\u001b[0;32m--> 833\u001b[0m     param_applied \u001b[39m=\u001b[39m fn(param)\n\u001b[1;32m    834\u001b[0m should_use_set_data \u001b[39m=\u001b[39m compute_should_use_set_data(param, param_applied)\n\u001b[1;32m    835\u001b[0m \u001b[39mif\u001b[39;00m should_use_set_data:\n",
      "File \u001b[0;32m~/anaconda3/lib/python3.11/site-packages/torch/nn/modules/module.py:918\u001b[0m, in \u001b[0;36mModule.cuda.<locals>.<lambda>\u001b[0;34m(t)\u001b[0m\n\u001b[1;32m    901\u001b[0m \u001b[39mdef\u001b[39;00m \u001b[39mcuda\u001b[39m(\u001b[39mself\u001b[39m: T, device: Optional[Union[\u001b[39mint\u001b[39m, device]] \u001b[39m=\u001b[39m \u001b[39mNone\u001b[39;00m) \u001b[39m-\u001b[39m\u001b[39m>\u001b[39m T:\n\u001b[1;32m    902\u001b[0m \u001b[39m    \u001b[39m\u001b[39mr\u001b[39m\u001b[39m\"\"\"Moves all model parameters and buffers to the GPU.\u001b[39;00m\n\u001b[1;32m    903\u001b[0m \n\u001b[1;32m    904\u001b[0m \u001b[39m    This also makes associated parameters and buffers different objects. So\u001b[39;00m\n\u001b[0;32m   (...)\u001b[0m\n\u001b[1;32m    916\u001b[0m \u001b[39m        Module: self\u001b[39;00m\n\u001b[1;32m    917\u001b[0m \u001b[39m    \"\"\"\u001b[39;00m\n\u001b[0;32m--> 918\u001b[0m     \u001b[39mreturn\u001b[39;00m \u001b[39mself\u001b[39m\u001b[39m.\u001b[39m_apply(\u001b[39mlambda\u001b[39;00m t: t\u001b[39m.\u001b[39mcuda(device))\n",
      "File \u001b[0;32m~/anaconda3/lib/python3.11/site-packages/torch/cuda/__init__.py:289\u001b[0m, in \u001b[0;36m_lazy_init\u001b[0;34m()\u001b[0m\n\u001b[1;32m    284\u001b[0m     \u001b[39mraise\u001b[39;00m \u001b[39mRuntimeError\u001b[39;00m(\n\u001b[1;32m    285\u001b[0m         \u001b[39m\"\u001b[39m\u001b[39mCannot re-initialize CUDA in forked subprocess. To use CUDA with \u001b[39m\u001b[39m\"\u001b[39m\n\u001b[1;32m    286\u001b[0m         \u001b[39m\"\u001b[39m\u001b[39mmultiprocessing, you must use the \u001b[39m\u001b[39m'\u001b[39m\u001b[39mspawn\u001b[39m\u001b[39m'\u001b[39m\u001b[39m start method\u001b[39m\u001b[39m\"\u001b[39m\n\u001b[1;32m    287\u001b[0m     )\n\u001b[1;32m    288\u001b[0m \u001b[39mif\u001b[39;00m \u001b[39mnot\u001b[39;00m \u001b[39mhasattr\u001b[39m(torch\u001b[39m.\u001b[39m_C, \u001b[39m\"\u001b[39m\u001b[39m_cuda_getDeviceCount\u001b[39m\u001b[39m\"\u001b[39m):\n\u001b[0;32m--> 289\u001b[0m     \u001b[39mraise\u001b[39;00m \u001b[39mAssertionError\u001b[39;00m(\u001b[39m\"\u001b[39m\u001b[39mTorch not compiled with CUDA enabled\u001b[39m\u001b[39m\"\u001b[39m)\n\u001b[1;32m    290\u001b[0m \u001b[39mif\u001b[39;00m _cudart \u001b[39mis\u001b[39;00m \u001b[39mNone\u001b[39;00m:\n\u001b[1;32m    291\u001b[0m     \u001b[39mraise\u001b[39;00m \u001b[39mAssertionError\u001b[39;00m(\n\u001b[1;32m    292\u001b[0m         \u001b[39m\"\u001b[39m\u001b[39mlibcudart functions unavailable. It looks like you have a broken build?\u001b[39m\u001b[39m\"\u001b[39m\n\u001b[1;32m    293\u001b[0m     )\n",
      "\u001b[0;31mAssertionError\u001b[0m: Torch not compiled with CUDA enabled"
     ]
    }
   ],
   "metadata": {}
  },
  {
   "cell_type": "code",
   "execution_count": 1,
   "source": [
    "import torch\n",
    "import numpy as np\n",
    "import os\n",
    "\n",
    "from utils import get_ecg, qrs_detection, get_segments, plot\n",
    "from data import build_dataloader\n",
    "from train import learn, cnn_feed_lstm"
   ],
   "outputs": [],
   "metadata": {}
  },
  {
   "cell_type": "code",
   "execution_count": 2,
   "source": [
    "PATH = \"/Users/nguyenvietthai/Downloads/training2017\"\n",
    "BATCH_SIZE = 2048\n",
    "EPOCH = 50\n",
    "FS = 300\n",
    "LENGTH = 9000\n",
    "LR = 1e-3\n",
    "RESAMP = False"
   ],
   "outputs": [],
   "metadata": {}
  },
  {
   "cell_type": "code",
   "execution_count": 3,
   "source": [
    "try:\n",
    "    segments = np.load('/Users/nguyenvietthai/Downloads/training2017/segment.npy')\n",
    "except:\n",
    "    signals, labels = get_ecg(PATH, length=LENGTH)\n",
    "    segments = np.zeros((245990, 1001))\n",
    "    k = 0\n",
    "    \n",
    "    for i, record in enumerate(signals):\n",
    "        print(\"running\",i)\n",
    "        rp = qrs_detection(record, sample_rate=FS)\n",
    "        seg = get_segments(record, rp, labels[i])\n",
    "        if seg is not None:\n",
    "            segments[k:k+seg.shape[0], :] = seg\n",
    "            k += seg.shape[0]\n",
    "    del signals, labels\n",
    "    \n",
    "    np.save('/Users/nguyenvietthai/Downloads/training2017/segment.npy', segments)"
   ],
   "outputs": [],
   "metadata": {}
  },
  {
   "cell_type": "code",
   "execution_count": 4,
   "source": [
    "X, y = segments[:, :-1], segments[:, -1][:, np.newaxis]\n",
    "del segments\n",
    "\n",
    "train, test = build_dataloader(X, y, resamp=RESAMP, batch_size=BATCH_SIZE)\n",
    "del X, y\n",
    "\n",
    "net = cnn_feed_lstm()\n",
    "try:\n",
    "    params = torch.load(\"../params/net_0.81.pkl\")\n",
    "    net.load_state_dict(params[\"model_state_dict\"])\n",
    "except:\n",
    "    pass"
   ],
   "outputs": [
    {
     "output_type": "stream",
     "name": "stdout",
     "text": [
      "Start building dataloader.\n"
     ]
    }
   ],
   "metadata": {}
  },
  {
   "cell_type": "code",
   "execution_count": 5,
   "source": [
    "loss, val_score = learn(net, train, test, lr=LR, epoch=EPOCH)\n",
    "plot(loss, val_score)"
   ],
   "outputs": [
    {
     "output_type": "stream",
     "name": "stdout",
     "text": [
      "Start training.\n",
      "Epoch:  1  | Loss: 0.684  | F1 Score: 0.74\n",
      "              precision    recall  f1-score   support\n",
      "\n",
      "        aFib       0.70      0.50      0.58      3997\n",
      "      Normal       0.77      0.92      0.84     20943\n",
      "      Others       0.66      0.50      0.57     11959\n",
      "\n",
      "    accuracy                           0.74     36899\n",
      "   macro avg       0.71      0.64      0.66     36899\n",
      "weighted avg       0.73      0.74      0.72     36899\n",
      "\n",
      "Epoch:  2  | Loss: 0.665  | F1 Score: 0.75\n",
      "              precision    recall  f1-score   support\n",
      "\n",
      "        aFib       0.72      0.59      0.65      3997\n",
      "      Normal       0.77      0.93      0.84     20943\n",
      "      Others       0.72      0.49      0.58     11959\n",
      "\n",
      "    accuracy                           0.75     36899\n",
      "   macro avg       0.74      0.67      0.69     36899\n",
      "weighted avg       0.75      0.75      0.74     36899\n",
      "\n",
      "Epoch:  3  | Loss: 0.614  | F1 Score: 0.76\n",
      "              precision    recall  f1-score   support\n",
      "\n",
      "        aFib       0.77      0.58      0.66      3997\n",
      "      Normal       0.77      0.93      0.84     20943\n",
      "      Others       0.71      0.52      0.60     11959\n",
      "\n",
      "    accuracy                           0.76     36899\n",
      "   macro avg       0.75      0.68      0.70     36899\n",
      "weighted avg       0.75      0.76      0.75     36899\n",
      "\n",
      "Epoch:  4  | Loss: 0.510  | F1 Score: 0.77\n",
      "              precision    recall  f1-score   support\n",
      "\n",
      "        aFib       0.75      0.60      0.67      3997\n",
      "      Normal       0.78      0.94      0.85     20943\n",
      "      Others       0.74      0.52      0.61     11959\n",
      "\n",
      "    accuracy                           0.77     36899\n",
      "   macro avg       0.76      0.69      0.71     36899\n",
      "weighted avg       0.76      0.77      0.75     36899\n",
      "\n",
      "Epoch:  5  | Loss: 0.535  | F1 Score: 0.77\n",
      "              precision    recall  f1-score   support\n",
      "\n",
      "        aFib       0.76      0.64      0.69      3997\n",
      "      Normal       0.79      0.92      0.85     20943\n",
      "      Others       0.72      0.56      0.63     11959\n",
      "\n",
      "    accuracy                           0.77     36899\n",
      "   macro avg       0.76      0.71      0.73     36899\n",
      "weighted avg       0.77      0.77      0.76     36899\n",
      "\n",
      "Epoch:  6  | Loss: 0.508  | F1 Score: 0.77\n",
      "              precision    recall  f1-score   support\n",
      "\n",
      "        aFib       0.80      0.58      0.67      3997\n",
      "      Normal       0.78      0.94      0.85     20943\n",
      "      Others       0.73      0.54      0.62     11959\n",
      "\n",
      "    accuracy                           0.77     36899\n",
      "   macro avg       0.77      0.69      0.72     36899\n",
      "weighted avg       0.77      0.77      0.76     36899\n",
      "\n",
      "Epoch:  7  | Loss: 0.625  | F1 Score: 0.78\n",
      "              precision    recall  f1-score   support\n",
      "\n",
      "        aFib       0.73      0.70      0.71      3997\n",
      "      Normal       0.79      0.93      0.85     20943\n",
      "      Others       0.76      0.53      0.62     11959\n",
      "\n",
      "    accuracy                           0.78     36899\n",
      "   macro avg       0.76      0.72      0.73     36899\n",
      "weighted avg       0.77      0.78      0.76     36899\n",
      "\n",
      "Epoch:  8  | Loss: 0.534  | F1 Score: 0.77\n",
      "              precision    recall  f1-score   support\n",
      "\n",
      "        aFib       0.71      0.71      0.71      3997\n",
      "      Normal       0.78      0.94      0.85     20943\n",
      "      Others       0.78      0.50      0.61     11959\n",
      "\n",
      "    accuracy                           0.77     36899\n",
      "   macro avg       0.76      0.72      0.72     36899\n",
      "weighted avg       0.77      0.77      0.76     36899\n",
      "\n",
      "Epoch:  9  | Loss: 0.534  | F1 Score: 0.78\n",
      "              precision    recall  f1-score   support\n",
      "\n",
      "        aFib       0.76      0.67      0.71      3997\n",
      "      Normal       0.79      0.93      0.85     20943\n",
      "      Others       0.76      0.54      0.63     11959\n",
      "\n",
      "    accuracy                           0.78     36899\n",
      "   macro avg       0.77      0.72      0.73     36899\n",
      "weighted avg       0.78      0.78      0.77     36899\n",
      "\n",
      "Epoch:  10  | Loss: 0.419  | F1 Score: 0.78\n",
      "              precision    recall  f1-score   support\n",
      "\n",
      "        aFib       0.78      0.66      0.71      3997\n",
      "      Normal       0.78      0.95      0.86     20943\n",
      "      Others       0.78      0.53      0.63     11959\n",
      "\n",
      "    accuracy                           0.78     36899\n",
      "   macro avg       0.78      0.71      0.73     36899\n",
      "weighted avg       0.78      0.78      0.77     36899\n",
      "\n",
      "Epoch:  11  | Loss: 0.522  | F1 Score: 0.78\n",
      "              precision    recall  f1-score   support\n",
      "\n",
      "        aFib       0.77      0.67      0.72      3997\n",
      "      Normal       0.79      0.94      0.86     20943\n",
      "      Others       0.77      0.53      0.63     11959\n",
      "\n",
      "    accuracy                           0.78     36899\n",
      "   macro avg       0.78      0.72      0.74     36899\n",
      "weighted avg       0.78      0.78      0.77     36899\n",
      "\n",
      "Epoch:  12  | Loss: 0.553  | F1 Score: 0.78\n",
      "              precision    recall  f1-score   support\n",
      "\n",
      "        aFib       0.73      0.73      0.73      3997\n",
      "      Normal       0.79      0.94      0.86     20943\n",
      "      Others       0.78      0.53      0.63     11959\n",
      "\n",
      "    accuracy                           0.78     36899\n",
      "   macro avg       0.77      0.73      0.74     36899\n",
      "weighted avg       0.78      0.78      0.77     36899\n",
      "\n",
      "Epoch:  13  | Loss: 0.423  | F1 Score: 0.79\n",
      "              precision    recall  f1-score   support\n",
      "\n",
      "        aFib       0.76      0.71      0.73      3997\n",
      "      Normal       0.79      0.94      0.86     20943\n",
      "      Others       0.78      0.54      0.64     11959\n",
      "\n",
      "    accuracy                           0.79     36899\n",
      "   macro avg       0.78      0.73      0.74     36899\n",
      "weighted avg       0.78      0.79      0.77     36899\n",
      "\n",
      "Epoch:  14  | Loss: 0.579  | F1 Score: 0.78\n",
      "              precision    recall  f1-score   support\n",
      "\n",
      "        aFib       0.77      0.67      0.72      3997\n",
      "      Normal       0.80      0.93      0.86     20943\n",
      "      Others       0.75      0.57      0.65     11959\n",
      "\n",
      "    accuracy                           0.78     36899\n",
      "   macro avg       0.77      0.72      0.74     36899\n",
      "weighted avg       0.78      0.78      0.77     36899\n",
      "\n",
      "Epoch:  15  | Loss: 0.485  | F1 Score: 0.78\n",
      "              precision    recall  f1-score   support\n",
      "\n",
      "        aFib       0.75      0.74      0.74      3997\n",
      "      Normal       0.80      0.93      0.86     20943\n",
      "      Others       0.77      0.55      0.64     11959\n",
      "\n",
      "    accuracy                           0.78     36899\n",
      "   macro avg       0.77      0.74      0.75     36899\n",
      "weighted avg       0.78      0.78      0.77     36899\n",
      "\n",
      "Epoch:  16  | Loss: 0.423  | F1 Score: 0.79\n",
      "              precision    recall  f1-score   support\n",
      "\n",
      "        aFib       0.73      0.74      0.74      3997\n",
      "      Normal       0.80      0.94      0.86     20943\n",
      "      Others       0.79      0.54      0.64     11959\n",
      "\n",
      "    accuracy                           0.79     36899\n",
      "   macro avg       0.77      0.74      0.75     36899\n",
      "weighted avg       0.79      0.79      0.78     36899\n",
      "\n",
      "Epoch:  17  | Loss: 0.578  | F1 Score: 0.78\n",
      "              precision    recall  f1-score   support\n",
      "\n",
      "        aFib       0.75      0.71      0.73      3997\n",
      "      Normal       0.81      0.91      0.86     20943\n",
      "      Others       0.74      0.60      0.66     11959\n",
      "\n",
      "    accuracy                           0.78     36899\n",
      "   macro avg       0.77      0.74      0.75     36899\n",
      "weighted avg       0.78      0.78      0.78     36899\n",
      "\n",
      "Epoch:  18  | Loss: 0.405  | F1 Score: 0.79\n",
      "              precision    recall  f1-score   support\n",
      "\n",
      "        aFib       0.79      0.67      0.73      3997\n",
      "      Normal       0.80      0.93      0.86     20943\n",
      "      Others       0.77      0.57      0.65     11959\n",
      "\n",
      "    accuracy                           0.79     36899\n",
      "   macro avg       0.79      0.73      0.75     36899\n",
      "weighted avg       0.79      0.79      0.78     36899\n",
      "\n",
      "Epoch:  19  | Loss: 0.545  | F1 Score: 0.79\n",
      "              precision    recall  f1-score   support\n",
      "\n",
      "        aFib       0.78      0.69      0.74      3997\n",
      "      Normal       0.81      0.92      0.86     20943\n",
      "      Others       0.75      0.60      0.67     11959\n",
      "\n",
      "    accuracy                           0.79     36899\n",
      "   macro avg       0.78      0.74      0.75     36899\n",
      "weighted avg       0.79      0.79      0.78     36899\n",
      "\n",
      "Epoch:  20  | Loss: 0.530  | F1 Score: 0.79\n",
      "              precision    recall  f1-score   support\n",
      "\n",
      "        aFib       0.77      0.71      0.74      3997\n",
      "      Normal       0.80      0.93      0.86     20943\n",
      "      Others       0.77      0.57      0.66     11959\n",
      "\n",
      "    accuracy                           0.79     36899\n",
      "   macro avg       0.78      0.74      0.75     36899\n",
      "weighted avg       0.79      0.79      0.78     36899\n",
      "\n",
      "Epoch:  21  | Loss: 0.480  | F1 Score: 0.79\n",
      "              precision    recall  f1-score   support\n",
      "\n",
      "        aFib       0.79      0.69      0.74      3997\n",
      "      Normal       0.80      0.93      0.86     20943\n",
      "      Others       0.77      0.57      0.66     11959\n",
      "\n",
      "    accuracy                           0.79     36899\n",
      "   macro avg       0.79      0.73      0.75     36899\n",
      "weighted avg       0.79      0.79      0.78     36899\n",
      "\n",
      "Epoch:  22  | Loss: 0.516  | F1 Score: 0.79\n",
      "              precision    recall  f1-score   support\n",
      "\n",
      "        aFib       0.75      0.73      0.74      3997\n",
      "      Normal       0.81      0.91      0.86     20943\n",
      "      Others       0.75      0.59      0.66     11959\n",
      "\n",
      "    accuracy                           0.79     36899\n",
      "   macro avg       0.77      0.75      0.75     36899\n",
      "weighted avg       0.79      0.79      0.78     36899\n",
      "\n",
      "Epoch:  23  | Loss: 0.392  | F1 Score: 0.79\n",
      "              precision    recall  f1-score   support\n",
      "\n",
      "        aFib       0.77      0.70      0.73      3997\n",
      "      Normal       0.80      0.93      0.86     20943\n",
      "      Others       0.77      0.58      0.66     11959\n",
      "\n",
      "    accuracy                           0.79     36899\n",
      "   macro avg       0.78      0.74      0.75     36899\n",
      "weighted avg       0.79      0.79      0.78     36899\n",
      "\n",
      "Epoch:  24  | Loss: 0.405  | F1 Score: 0.79\n",
      "              precision    recall  f1-score   support\n",
      "\n",
      "        aFib       0.79      0.69      0.74      3997\n",
      "      Normal       0.81      0.92      0.86     20943\n",
      "      Others       0.75      0.61      0.67     11959\n",
      "\n",
      "    accuracy                           0.79     36899\n",
      "   macro avg       0.78      0.74      0.76     36899\n",
      "weighted avg       0.79      0.79      0.79     36899\n",
      "\n",
      "Epoch:  25  | Loss: 0.469  | F1 Score: 0.79\n",
      "              precision    recall  f1-score   support\n",
      "\n",
      "        aFib       0.76      0.74      0.75      3997\n",
      "      Normal       0.81      0.92      0.86     20943\n",
      "      Others       0.77      0.59      0.67     11959\n",
      "\n",
      "    accuracy                           0.79     36899\n",
      "   macro avg       0.78      0.75      0.76     36899\n",
      "weighted avg       0.79      0.79      0.79     36899\n",
      "\n",
      "Epoch:  26  | Loss: 0.554  | F1 Score: 0.80\n",
      "              precision    recall  f1-score   support\n",
      "\n",
      "        aFib       0.78      0.70      0.74      3997\n",
      "      Normal       0.81      0.93      0.86     20943\n",
      "      Others       0.78      0.59      0.67     11959\n",
      "\n",
      "    accuracy                           0.80     36899\n",
      "   macro avg       0.79      0.74      0.76     36899\n",
      "weighted avg       0.79      0.80      0.79     36899\n",
      "\n",
      "Epoch:  27  | Loss: 0.530  | F1 Score: 0.79\n",
      "              precision    recall  f1-score   support\n",
      "\n",
      "        aFib       0.79      0.69      0.74      3997\n",
      "      Normal       0.81      0.92      0.86     20943\n",
      "      Others       0.75      0.61      0.68     11959\n",
      "\n",
      "    accuracy                           0.79     36899\n",
      "   macro avg       0.78      0.74      0.76     36899\n",
      "weighted avg       0.79      0.79      0.79     36899\n",
      "\n",
      "Epoch:  28  | Loss: 0.494  | F1 Score: 0.80\n",
      "              precision    recall  f1-score   support\n",
      "\n",
      "        aFib       0.76      0.73      0.75      3997\n",
      "      Normal       0.81      0.93      0.86     20943\n",
      "      Others       0.78      0.58      0.67     11959\n",
      "\n",
      "    accuracy                           0.80     36899\n",
      "   macro avg       0.78      0.75      0.76     36899\n",
      "weighted avg       0.79      0.80      0.79     36899\n",
      "\n",
      "Epoch:  29  | Loss: 0.461  | F1 Score: 0.80\n",
      "              precision    recall  f1-score   support\n",
      "\n",
      "        aFib       0.78      0.72      0.75      3997\n",
      "      Normal       0.81      0.93      0.86     20943\n",
      "      Others       0.77      0.60      0.67     11959\n",
      "\n",
      "    accuracy                           0.80     36899\n",
      "   macro avg       0.79      0.75      0.76     36899\n",
      "weighted avg       0.79      0.80      0.79     36899\n",
      "\n",
      "Epoch:  30  | Loss: 0.492  | F1 Score: 0.80\n",
      "              precision    recall  f1-score   support\n",
      "\n",
      "        aFib       0.76      0.74      0.75      3997\n",
      "      Normal       0.81      0.93      0.86     20943\n",
      "      Others       0.78      0.58      0.67     11959\n",
      "\n",
      "    accuracy                           0.80     36899\n",
      "   macro avg       0.78      0.75      0.76     36899\n",
      "weighted avg       0.79      0.80      0.79     36899\n",
      "\n",
      "Epoch:  31  | Loss: 0.455  | F1 Score: 0.80\n",
      "              precision    recall  f1-score   support\n",
      "\n",
      "        aFib       0.76      0.73      0.74      3997\n",
      "      Normal       0.81      0.93      0.87     20943\n",
      "      Others       0.78      0.59      0.67     11959\n",
      "\n",
      "    accuracy                           0.80     36899\n",
      "   macro avg       0.78      0.75      0.76     36899\n",
      "weighted avg       0.79      0.80      0.79     36899\n",
      "\n",
      "Epoch:  32  | Loss: 0.408  | F1 Score: 0.80\n",
      "              precision    recall  f1-score   support\n",
      "\n",
      "        aFib       0.76      0.74      0.75      3997\n",
      "      Normal       0.81      0.92      0.86     20943\n",
      "      Others       0.77      0.59      0.67     11959\n",
      "\n",
      "    accuracy                           0.80     36899\n",
      "   macro avg       0.78      0.75      0.76     36899\n",
      "weighted avg       0.79      0.80      0.79     36899\n",
      "\n",
      "Epoch:  33  | Loss: 0.460  | F1 Score: 0.80\n",
      "              precision    recall  f1-score   support\n",
      "\n",
      "        aFib       0.77      0.74      0.75      3997\n",
      "      Normal       0.81      0.92      0.86     20943\n",
      "      Others       0.77      0.60      0.68     11959\n",
      "\n",
      "    accuracy                           0.80     36899\n",
      "   macro avg       0.78      0.75      0.76     36899\n",
      "weighted avg       0.79      0.80      0.79     36899\n",
      "\n",
      "Epoch:  34  | Loss: 0.440  | F1 Score: 0.80\n",
      "              precision    recall  f1-score   support\n",
      "\n",
      "        aFib       0.78      0.71      0.74      3997\n",
      "      Normal       0.81      0.94      0.87     20943\n",
      "      Others       0.79      0.58      0.67     11959\n",
      "\n",
      "    accuracy                           0.80     36899\n",
      "   macro avg       0.79      0.74      0.76     36899\n",
      "weighted avg       0.80      0.80      0.79     36899\n",
      "\n",
      "Epoch:  35  | Loss: 0.366  | F1 Score: 0.80\n",
      "              precision    recall  f1-score   support\n",
      "\n",
      "        aFib       0.77      0.71      0.74      3997\n",
      "      Normal       0.80      0.94      0.86     20943\n",
      "      Others       0.78      0.58      0.67     11959\n",
      "\n",
      "    accuracy                           0.80     36899\n",
      "   macro avg       0.79      0.74      0.76     36899\n",
      "weighted avg       0.79      0.80      0.79     36899\n",
      "\n",
      "Epoch:  36  | Loss: 0.394  | F1 Score: 0.80\n",
      "              precision    recall  f1-score   support\n",
      "\n",
      "        aFib       0.77      0.72      0.74      3997\n",
      "      Normal       0.81      0.93      0.87     20943\n",
      "      Others       0.78      0.60      0.67     11959\n",
      "\n",
      "    accuracy                           0.80     36899\n",
      "   macro avg       0.79      0.75      0.76     36899\n",
      "weighted avg       0.80      0.80      0.79     36899\n",
      "\n",
      "Epoch:  37  | Loss: 0.505  | F1 Score: 0.80\n",
      "              precision    recall  f1-score   support\n",
      "\n",
      "        aFib       0.77      0.72      0.74      3997\n",
      "      Normal       0.81      0.93      0.87     20943\n",
      "      Others       0.78      0.59      0.67     11959\n",
      "\n",
      "    accuracy                           0.80     36899\n",
      "   macro avg       0.79      0.75      0.76     36899\n",
      "weighted avg       0.80      0.80      0.79     36899\n",
      "\n",
      "Epoch:  38  | Loss: 0.501  | F1 Score: 0.80\n",
      "              precision    recall  f1-score   support\n",
      "\n",
      "        aFib       0.77      0.72      0.75      3997\n",
      "      Normal       0.82      0.92      0.87     20943\n",
      "      Others       0.77      0.61      0.68     11959\n",
      "\n",
      "    accuracy                           0.80     36899\n",
      "   macro avg       0.79      0.75      0.77     36899\n",
      "weighted avg       0.80      0.80      0.79     36899\n",
      "\n",
      "Epoch:  39  | Loss: 0.481  | F1 Score: 0.80\n",
      "              precision    recall  f1-score   support\n",
      "\n",
      "        aFib       0.73      0.76      0.74      3997\n",
      "      Normal       0.81      0.94      0.87     20943\n",
      "      Others       0.80      0.57      0.66     11959\n",
      "\n",
      "    accuracy                           0.80     36899\n",
      "   macro avg       0.78      0.75      0.76     36899\n",
      "weighted avg       0.80      0.80      0.79     36899\n",
      "\n",
      "Epoch:  40  | Loss: 0.464  | F1 Score: 0.80\n",
      "              precision    recall  f1-score   support\n",
      "\n",
      "        aFib       0.75      0.77      0.76      3997\n",
      "      Normal       0.81      0.93      0.87     20943\n",
      "      Others       0.79      0.59      0.68     11959\n",
      "\n",
      "    accuracy                           0.80     36899\n",
      "   macro avg       0.78      0.76      0.77     36899\n",
      "weighted avg       0.80      0.80      0.79     36899\n",
      "\n",
      "Epoch:  41  | Loss: 0.297  | F1 Score: 0.80\n",
      "              precision    recall  f1-score   support\n",
      "\n",
      "        aFib       0.77      0.73      0.75      3997\n",
      "      Normal       0.81      0.93      0.87     20943\n",
      "      Others       0.79      0.59      0.68     11959\n",
      "\n",
      "    accuracy                           0.80     36899\n",
      "   macro avg       0.79      0.75      0.76     36899\n",
      "weighted avg       0.80      0.80      0.79     36899\n",
      "\n",
      "Epoch:  42  | Loss: 0.513  | F1 Score: 0.80\n",
      "              precision    recall  f1-score   support\n",
      "\n",
      "        aFib       0.75      0.75      0.75      3997\n",
      "      Normal       0.82      0.92      0.87     20943\n",
      "      Others       0.78      0.60      0.68     11959\n",
      "\n",
      "    accuracy                           0.80     36899\n",
      "   macro avg       0.78      0.76      0.76     36899\n",
      "weighted avg       0.80      0.80      0.79     36899\n",
      "\n",
      "Epoch:  43  | Loss: 0.476  | F1 Score: 0.80\n",
      "              precision    recall  f1-score   support\n",
      "\n",
      "        aFib       0.79      0.71      0.75      3997\n",
      "      Normal       0.81      0.93      0.87     20943\n",
      "      Others       0.77      0.61      0.68     11959\n",
      "\n",
      "    accuracy                           0.80     36899\n",
      "   macro avg       0.79      0.75      0.77     36899\n",
      "weighted avg       0.80      0.80      0.79     36899\n",
      "\n",
      "Epoch:  44  | Loss: 0.370  | F1 Score: 0.80\n",
      "              precision    recall  f1-score   support\n",
      "\n",
      "        aFib       0.78      0.70      0.74      3997\n",
      "      Normal       0.81      0.93      0.87     20943\n",
      "      Others       0.77      0.61      0.68     11959\n",
      "\n",
      "    accuracy                           0.80     36899\n",
      "   macro avg       0.79      0.75      0.76     36899\n",
      "weighted avg       0.80      0.80      0.79     36899\n",
      "\n",
      "Epoch:  45  | Loss: 0.406  | F1 Score: 0.80\n",
      "              precision    recall  f1-score   support\n",
      "\n",
      "        aFib       0.77      0.72      0.74      3997\n",
      "      Normal       0.81      0.93      0.87     20943\n",
      "      Others       0.79      0.60      0.68     11959\n",
      "\n",
      "    accuracy                           0.80     36899\n",
      "   macro avg       0.79      0.75      0.77     36899\n",
      "weighted avg       0.80      0.80      0.80     36899\n",
      "\n",
      "Epoch:  46  | Loss: 0.387  | F1 Score: 0.80\n",
      "              precision    recall  f1-score   support\n",
      "\n",
      "        aFib       0.75      0.74      0.74      3997\n",
      "      Normal       0.82      0.92      0.86     20943\n",
      "      Others       0.77      0.61      0.68     11959\n",
      "\n",
      "    accuracy                           0.80     36899\n",
      "   macro avg       0.78      0.76      0.76     36899\n",
      "weighted avg       0.80      0.80      0.79     36899\n",
      "\n",
      "Epoch:  47  | Loss: 0.400  | F1 Score: 0.80\n",
      "              precision    recall  f1-score   support\n",
      "\n",
      "        aFib       0.77      0.72      0.74      3997\n",
      "      Normal       0.82      0.93      0.87     20943\n",
      "      Others       0.79      0.61      0.68     11959\n",
      "\n",
      "    accuracy                           0.80     36899\n",
      "   macro avg       0.79      0.75      0.77     36899\n",
      "weighted avg       0.80      0.80      0.80     36899\n",
      "\n",
      "Epoch:  48  | Loss: 0.476  | F1 Score: 0.80\n",
      "              precision    recall  f1-score   support\n",
      "\n",
      "        aFib       0.75      0.75      0.75      3997\n",
      "      Normal       0.83      0.91      0.86     20943\n",
      "      Others       0.76      0.63      0.69     11959\n",
      "\n",
      "    accuracy                           0.80     36899\n",
      "   macro avg       0.78      0.76      0.77     36899\n",
      "weighted avg       0.80      0.80      0.80     36899\n",
      "\n",
      "Epoch:  49  | Loss: 0.460  | F1 Score: 0.80\n",
      "              precision    recall  f1-score   support\n",
      "\n",
      "        aFib       0.78      0.71      0.75      3997\n",
      "      Normal       0.81      0.93      0.87     20943\n",
      "      Others       0.78      0.61      0.69     11959\n",
      "\n",
      "    accuracy                           0.80     36899\n",
      "   macro avg       0.79      0.75      0.77     36899\n",
      "weighted avg       0.80      0.80      0.80     36899\n",
      "\n",
      "Epoch:  50  | Loss: 0.394  | F1 Score: 0.80\n",
      "              precision    recall  f1-score   support\n",
      "\n",
      "        aFib       0.75      0.75      0.75      3997\n",
      "      Normal       0.82      0.92      0.87     20943\n",
      "      Others       0.78      0.61      0.69     11959\n",
      "\n",
      "    accuracy                           0.80     36899\n",
      "   macro avg       0.79      0.76      0.77     36899\n",
      "weighted avg       0.80      0.80      0.80     36899\n",
      "\n",
      "The average validation score is: 0.79\n"
     ]
    },
    {
     "output_type": "display_data",
     "data": {
      "image/png": "[encoded data removed]",
      "text/plain": [
       "<Figure size 1200x500 with 1 Axes>"
      ]
     },
     "metadata": {}
    },
    {
     "output_type": "display_data",
     "data": {
      "image/png": "[encoded data removed]",
      "text/plain": [
       "<Figure size 1200x500 with 1 Axes>"
      ]
     },
     "metadata": {}
    }
   ],
   "metadata": {}
  }
 ],
 "nbformat": 4,
 "nbformat_minor": 2,
 "metadata": {
  "language_info": {
   "codemirror_mode": {
    "name": "ipython",
    "version": 3
   },
   "file_extension": ".py",
   "mimetype": "text/x-python",
   "name": "python",
   "nbconvert_exporter": "python",
   "pygments_lexer": "ipython3",
   "version": 3
  }
 }
}